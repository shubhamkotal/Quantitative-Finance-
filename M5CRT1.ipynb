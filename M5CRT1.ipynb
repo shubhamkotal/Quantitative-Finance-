{
  "nbformat": 4,
  "nbformat_minor": 0,
  "metadata": {
    "kernelspec": {
      "display_name": "Python 3",
      "language": "python",
      "name": "python3"
    },
    "language_info": {
      "codemirror_mode": {
        "name": "ipython",
        "version": 3
      },
      "file_extension": ".py",
      "mimetype": "text/x-python",
      "name": "python",
      "nbconvert_exporter": "python",
      "pygments_lexer": "ipython3",
      "version": "3.7.4"
    },
    "colab": {
      "name": "M5CRT1.ipynb",
      "provenance": [],
      "collapsed_sections": []
    }
  },
  "cells": [
    {
      "cell_type": "markdown",
      "metadata": {
        "id": "akTwJikME42i"
      },
      "source": [
        "### TASK 1"
      ]
    },
    {
      "cell_type": "code",
      "metadata": {
        "id": "gtkJjhhkE42j"
      },
      "source": [
        "# Let's start by putting the following (completely fictional) share price lists into NumPy arrays\n",
        "\n",
        "microsoft = [120.3, 121.7, 119.8, 122.5, 123.3]\n",
        "apple = [124.1, 124.3, 124.2, 124.8, 124.3]\n",
        "facebook = [110.2, 112.4, 116.8, 115.3, 119.6]\n",
        "\n",
        "# TASK 1: Import NumPy and create arrays\n",
        "## (1) Import NumPy\n",
        "import numpy as np \n",
        "## (2) Create NumPy array by using function asarray and assigning new variables (i.e. stock_p)\n",
        "microsoft_p = np.array(microsoft)\n",
        "apple_p = np.array(apple)\n",
        "facebook_p = np.array(facebook)"
      ],
      "execution_count": null,
      "outputs": []
    },
    {
      "cell_type": "markdown",
      "metadata": {
        "id": "BgNMqE3FE42k"
      },
      "source": [
        "### TASK 2"
      ]
    },
    {
      "cell_type": "code",
      "metadata": {
        "colab": {
          "base_uri": "https://localhost:8080/"
        },
        "id": "rBNnC5OUE42k",
        "outputId": "d3fda63e-5fc9-498f-ca13-59acef2a4e70"
      },
      "source": [
        "# Now let's use some NumPy functions to learn some interesting statistical information\n",
        "\n",
        "## (1) Create List to store company name\n",
        "compname = [\"Microsoft\",\"Apple\",\"Facebook\"]\n",
        "## (2) Create empty list to store mean of share prices\n",
        "mean = []\n",
        "## (3) Create empty list to store standard devaition of share prices\n",
        "std = []\n",
        "## (4) Create empty list to store percentage change in share price\n",
        "pct = []\n",
        "\n",
        "# TASK 2A: Calculate the mean share price for each company, and store in suitably named variables.\n",
        "#          Then print them out (in order - Microsoft, then Apple, then Facebook).\n",
        "print(\"Mean values:\")\n",
        "\n",
        "## (5) Calculate mean by using NumPy mean function (in order - Microsoft, then Apple, then Facebook)\n",
        "mean.append(np.mean(microsoft_p))\n",
        "mean.append(np.mean(apple_p))\n",
        "mean.append(np.mean(facebook_p))\n",
        "\n",
        "## (6) Print out the result by using for loop (in order - Microsoft, then Apple, then Facebook)\n",
        "## create i = 0 to order print mean share price\n",
        "i = 0\n",
        "for share in compname:\n",
        "    print(\"%s - %1.3f\" % (share,mean[i]))\n",
        "    i += 1\n",
        "\n",
        "    \n",
        "print()\n",
        "# TASK 2B: Calculate the standard deviation of share prices for each company using a NumPy function,\n",
        "#          and store in suitably named variables. Then print them out (in order - Microsoft, then Apple, then Facebook).\n",
        "print(\"Std. deviation values:\")\n",
        "\n",
        "## (7) Calculate standard deviation by using NumPy std function (in order - Microsoft, then Apple, then Facebook)\n",
        "std.append(np.std(microsoft_p))\n",
        "std.append(np.std(apple_p))\n",
        "std.append(np.std(facebook_p))\n",
        "\n",
        "## (8) Print out the result by using for loop (in order - Microsoft, then Apple, then Facebook)\n",
        "## create i = 0 to order print standard deviation of share price\n",
        "i = 0\n",
        "for share in compname:\n",
        "    print(\"%s - %1.3f\" % (share,std[i]))\n",
        "    i += 1\n",
        "\n",
        "print()\n",
        "# TASK 2C: Calculate the percentage change in share price from the first price to the last price, and store \n",
        "#          in suitably named variables. Then print them out (in order - Microsoft, then Apple, then Facebook).\n",
        "print(\"% change values:\")\n",
        "\n",
        "## (9) Calculate standard deviation by using NumPy std function (in order - Microsoft, then Apple, then Facebook)\n",
        "pct.append((microsoft_p[-1]-microsoft_p[0])/microsoft_p[0])\n",
        "pct.append((apple_p[-1]-apple_p[0])/apple_p[0])\n",
        "pct.append((facebook_p[-1]-facebook_p[0])/facebook_p[0])\n",
        "\n",
        "## (10) Print out the result by using for loop (in order - Microsoft, then Apple, then Facebook)\n",
        "## create i = 0 to order print percentage change in share price\n",
        "i = 0\n",
        "for share in compname:\n",
        "    print(\"%s - %1.2f%%\" % (share,pct[i]*100))\n",
        "    i += 1"
      ],
      "execution_count": null,
      "outputs": [
        {
          "output_type": "stream",
          "text": [
            "Mean values:\n",
            "Microsoft - 121.520\n",
            "Apple - 124.340\n",
            "Facebook - 114.860\n",
            "\n",
            "Std. deviation values:\n",
            "Microsoft - 1.312\n",
            "Apple - 0.242\n",
            "Facebook - 3.292\n",
            "\n",
            "% change values:\n",
            "Microsoft - 2.49%\n",
            "Apple - 0.16%\n",
            "Facebook - 8.53%\n"
          ],
          "name": "stdout"
        }
      ]
    },
    {
      "cell_type": "markdown",
      "metadata": {
        "id": "nl62_3YFE42m"
      },
      "source": [
        "### TASK 3"
      ]
    },
    {
      "cell_type": "code",
      "metadata": {
        "colab": {
          "base_uri": "https://localhost:8080/",
          "height": 142
        },
        "id": "_-9nbruNE42m",
        "outputId": "331501fe-d48a-4f51-9490-d6636b2a109a"
      },
      "source": [
        "# Now we're going to load our NumPy arrays into a Pandas Dataframe\n",
        "# The 5 values in each company's array is the share price for the first 5 months of 2018\n",
        "\n",
        "## (1) Prepare column header and row label\n",
        "month = [\"Jan 2018\",\"Feb 2018\",\"Mar 2018\",\"Apr 2018\",\"May 2018\"]\n",
        "## note: for row label, I performed in question 2 as this code - compname = [\"Microsoft\",\"Apple\",\"Facebook\"]\n",
        "\n",
        "# TASK 3: Import Pandas and load the arrays into a dataframe with appropriate row and column labels, and then\n",
        "#         output the dataframe by simply typing its variable name on a new line\n",
        "\n",
        "## (2) Import Pandas Library as pd\n",
        "import pandas as pd\n",
        "\n",
        "## (3) Create new array (i.e., combine three separate array into one matrix)\n",
        "shareprice = np.array([microsoft_p,apple_p,facebook_p])\n",
        "\n",
        "## (4) Convert matrix shareprice to dataframe by using Pandas Function\n",
        "share_prices = pd.DataFrame(shareprice, index = compname , columns = month)\n",
        "\n",
        "## (5) Show dataframe\n",
        "share_prices"
      ],
      "execution_count": null,
      "outputs": [
        {
          "output_type": "execute_result",
          "data": {
            "text/html": [
              "<div>\n",
              "<style scoped>\n",
              "    .dataframe tbody tr th:only-of-type {\n",
              "        vertical-align: middle;\n",
              "    }\n",
              "\n",
              "    .dataframe tbody tr th {\n",
              "        vertical-align: top;\n",
              "    }\n",
              "\n",
              "    .dataframe thead th {\n",
              "        text-align: right;\n",
              "    }\n",
              "</style>\n",
              "<table border=\"1\" class=\"dataframe\">\n",
              "  <thead>\n",
              "    <tr style=\"text-align: right;\">\n",
              "      <th></th>\n",
              "      <th>Jan 2018</th>\n",
              "      <th>Feb 2018</th>\n",
              "      <th>Mar 2018</th>\n",
              "      <th>Apr 2018</th>\n",
              "      <th>May 2018</th>\n",
              "    </tr>\n",
              "  </thead>\n",
              "  <tbody>\n",
              "    <tr>\n",
              "      <th>Microsoft</th>\n",
              "      <td>120.3</td>\n",
              "      <td>121.7</td>\n",
              "      <td>119.8</td>\n",
              "      <td>122.5</td>\n",
              "      <td>123.3</td>\n",
              "    </tr>\n",
              "    <tr>\n",
              "      <th>Apple</th>\n",
              "      <td>124.1</td>\n",
              "      <td>124.3</td>\n",
              "      <td>124.2</td>\n",
              "      <td>124.8</td>\n",
              "      <td>124.3</td>\n",
              "    </tr>\n",
              "    <tr>\n",
              "      <th>Facebook</th>\n",
              "      <td>110.2</td>\n",
              "      <td>112.4</td>\n",
              "      <td>116.8</td>\n",
              "      <td>115.3</td>\n",
              "      <td>119.6</td>\n",
              "    </tr>\n",
              "  </tbody>\n",
              "</table>\n",
              "</div>"
            ],
            "text/plain": [
              "           Jan 2018  Feb 2018  Mar 2018  Apr 2018  May 2018\n",
              "Microsoft     120.3     121.7     119.8     122.5     123.3\n",
              "Apple         124.1     124.3     124.2     124.8     124.3\n",
              "Facebook      110.2     112.4     116.8     115.3     119.6"
            ]
          },
          "metadata": {
            "tags": []
          },
          "execution_count": 3
        }
      ]
    },
    {
      "cell_type": "code",
      "metadata": {
        "colab": {
          "base_uri": "https://localhost:8080/"
        },
        "id": "R6ucF6R6E42n",
        "outputId": "d6cc0ad9-a8e5-4e4f-bbbf-697168432c70"
      },
      "source": [
        "## (6) Show specific month\n",
        "share_prices[\"Feb 2018\"]"
      ],
      "execution_count": null,
      "outputs": [
        {
          "output_type": "execute_result",
          "data": {
            "text/plain": [
              "Microsoft    121.7\n",
              "Apple        124.3\n",
              "Facebook     112.4\n",
              "Name: Feb 2018, dtype: float64"
            ]
          },
          "metadata": {
            "tags": []
          },
          "execution_count": 4
        }
      ]
    },
    {
      "cell_type": "code",
      "metadata": {
        "colab": {
          "base_uri": "https://localhost:8080/"
        },
        "id": "De7zGhqBE42o",
        "outputId": "1fe2a4a7-0b5f-423c-e907-e1b5d575b3fa"
      },
      "source": [
        "## (7) Show specfic company\n",
        "share_prices.loc[\"Facebook\"]"
      ],
      "execution_count": null,
      "outputs": [
        {
          "output_type": "execute_result",
          "data": {
            "text/plain": [
              "Jan 2018    110.2\n",
              "Feb 2018    112.4\n",
              "Mar 2018    116.8\n",
              "Apr 2018    115.3\n",
              "May 2018    119.6\n",
              "Name: Facebook, dtype: float64"
            ]
          },
          "metadata": {
            "tags": []
          },
          "execution_count": 5
        }
      ]
    },
    {
      "cell_type": "code",
      "metadata": {
        "colab": {
          "base_uri": "https://localhost:8080/"
        },
        "id": "DYCPWvd3E42p",
        "outputId": "b8aa25b9-4c2e-4b40-bb47-25320ae949a2"
      },
      "source": [
        "## (8) Show specfic company and month\n",
        "share_prices[\"Mar 2018\"][\"Microsoft\"]"
      ],
      "execution_count": null,
      "outputs": [
        {
          "output_type": "execute_result",
          "data": {
            "text/plain": [
              "119.8"
            ]
          },
          "metadata": {
            "tags": []
          },
          "execution_count": 6
        }
      ]
    },
    {
      "cell_type": "markdown",
      "metadata": {
        "id": "3zs8QKz7E42p"
      },
      "source": [
        "### TASK 4"
      ]
    },
    {
      "cell_type": "code",
      "metadata": {
        "colab": {
          "base_uri": "https://localhost:8080/",
          "height": 295
        },
        "id": "ZnSU45TzE42q",
        "outputId": "f638640a-785c-427b-f900-cca4d3043604"
      },
      "source": [
        "# Finally, let's draw some interesting graphs! \n",
        "# You will need to use some of the statistical values you calculated earlier in order to do this\n",
        "\n",
        "# TO DO: Import Matplotlib's Pyplot submodule\n",
        "\n",
        "## (1) Import pyplot (which is under matplotlib library) as plt\n",
        "import matplotlib.pyplot as plt\n",
        "\n",
        "# TASK 4A: Draw a line graph for one of the companies, showing their share prices over time, using the dataframe.\n",
        "#          Provide suitable labels. Hint: using your_dataframe_variable.loc[\"your_row_label\", :] will extract a single row.\n",
        "\n",
        "## (2) Plot graph\n",
        "plt.title(\"Apple share price\")\n",
        "plt.xlabel(\"Month\")\n",
        "plt.ylabel(\"Price\")\n",
        "plt.plot(share_prices.loc[\"Apple\"])\n",
        "plt.show()"
      ],
      "execution_count": null,
      "outputs": [
        {
          "output_type": "display_data",
          "data": {
            "image/png": "[encoded data removed]",
            "text/plain": [
              "<Figure size 432x288 with 1 Axes>"
            ]
          },
          "metadata": {
            "tags": [],
            "needs_background": "light"
          }
        }
      ]
    },
    {
      "cell_type": "code",
      "metadata": {
        "colab": {
          "base_uri": "https://localhost:8080/",
          "height": 295
        },
        "id": "z-LcZ7MkE42q",
        "outputId": "75827609-af22-43eb-d5bb-c2861c5e2aba"
      },
      "source": [
        "# TASK 4B: Draw a bar chart, using any data structure, comparing each company's value for any statistic of your choice \n",
        "#          from Task 2 (A, B or C)\n",
        "\n",
        "## (3) Bar chart of each company mean share prices (2A)\n",
        "## As I store those value in the list then I easily assign those list to plt bar function\n",
        "plt.title(\"Mean share prices\")\n",
        "plt.xlabel(\"Company\")\n",
        "plt.ylabel(\"Price\")\n",
        "plt.bar(compname,mean,alpha = 0.5)\n",
        "plt.show()"
      ],
      "execution_count": null,
      "outputs": [
        {
          "output_type": "display_data",
          "data": {
            "image/png": "[encoded data removed]",
            "text/plain": [
              "<Figure size 432x288 with 1 Axes>"
            ]
          },
          "metadata": {
            "tags": [],
            "needs_background": "light"
          }
        }
      ]
    }
  ]
}