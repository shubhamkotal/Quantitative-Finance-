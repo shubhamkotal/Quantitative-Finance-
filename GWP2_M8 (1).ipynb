{
  "nbformat": 4,
  "nbformat_minor": 0,
  "metadata": {
    "colab": {
      "name": "GWP2_M8.ipynb",
      "provenance": [],
      "collapsed_sections": []
    },
    "kernelspec": {
      "name": "python3",
      "display_name": "Python 3"
    },
    "language_info": {
      "name": "python"
    }
  },
  "cells": [
    {
      "cell_type": "code",
      "execution_count": null,
      "metadata": {
        "colab": {
          "base_uri": "https://localhost:8080/"
        },
        "id": "BtYBPZO3czST",
        "outputId": "779d5c18-97d4-4b8d-bab2-e0ea78d71349"
      },
      "outputs": [
        {
          "output_type": "stream",
          "name": "stdout",
          "text": [
            "Mounted at /content/gdrive\n"
          ]
        }
      ],
      "source": [
        "from google.colab import drive\n",
        "drive.mount(\"/content/gdrive\")"
      ]
    },
    {
      "cell_type": "code",
      "source": [
        "import numpy as np\n",
        "import pandas as pd\n",
        "import matplotlib.pyplot as plt\n",
        "import seaborn as sns\n",
        "sns.set()\n",
        "!pip install yfinance\n",
        "import yfinance as yf"
      ],
      "metadata": {
        "colab": {
          "base_uri": "https://localhost:8080/"
        },
        "id": "-O7fPlOGeR3F",
        "outputId": "9f3b5db3-d955-43a3-d3a1-2a2e1cb7a5a2"
      },
      "execution_count": null,
      "outputs": [
        {
          "output_type": "stream",
          "name": "stdout",
          "text": [
            "Collecting yfinance\n",
            "  Downloading yfinance-0.1.67-py2.py3-none-any.whl (25 kB)\n",
            "Requirement already satisfied: pandas>=0.24 in /usr/local/lib/python3.7/dist-packages (from yfinance) (1.1.5)\n",
            "Collecting lxml>=4.5.1\n",
            "  Downloading lxml-4.6.4-cp37-cp37m-manylinux_2_17_x86_64.manylinux2014_x86_64.manylinux_2_24_x86_64.whl (6.3 MB)\n",
            "\u001b[K     |████████████████████████████████| 6.3 MB 7.4 MB/s \n",
            "\u001b[?25hRequirement already satisfied: multitasking>=0.0.7 in /usr/local/lib/python3.7/dist-packages (from yfinance) (0.0.10)\n",
            "Requirement already satisfied: requests>=2.20 in /usr/local/lib/python3.7/dist-packages (from yfinance) (2.23.0)\n",
            "Requirement already satisfied: numpy>=1.15 in /usr/local/lib/python3.7/dist-packages (from yfinance) (1.19.5)\n",
            "Requirement already satisfied: pytz>=2017.2 in /usr/local/lib/python3.7/dist-packages (from pandas>=0.24->yfinance) (2018.9)\n",
            "Requirement already satisfied: python-dateutil>=2.7.3 in /usr/local/lib/python3.7/dist-packages (from pandas>=0.24->yfinance) (2.8.2)\n",
            "Requirement already satisfied: six>=1.5 in /usr/local/lib/python3.7/dist-packages (from python-dateutil>=2.7.3->pandas>=0.24->yfinance) (1.15.0)\n",
            "Requirement already satisfied: urllib3!=1.25.0,!=1.25.1,<1.26,>=1.21.1 in /usr/local/lib/python3.7/dist-packages (from requests>=2.20->yfinance) (1.24.3)\n",
            "Requirement already satisfied: certifi>=2017.4.17 in /usr/local/lib/python3.7/dist-packages (from requests>=2.20->yfinance) (2021.10.8)\n",
            "Requirement already satisfied: idna<3,>=2.5 in /usr/local/lib/python3.7/dist-packages (from requests>=2.20->yfinance) (2.10)\n",
            "Requirement already satisfied: chardet<4,>=3.0.2 in /usr/local/lib/python3.7/dist-packages (from requests>=2.20->yfinance) (3.0.4)\n",
            "Installing collected packages: lxml, yfinance\n",
            "  Attempting uninstall: lxml\n",
            "    Found existing installation: lxml 4.2.6\n",
            "    Uninstalling lxml-4.2.6:\n",
            "      Successfully uninstalled lxml-4.2.6\n",
            "Successfully installed lxml-4.6.4 yfinance-0.1.67\n"
          ]
        }
      ]
    },
    {
      "cell_type": "code",
      "source": [
        "%cd '/content/gdrive/MyDrive/GWP2M8'"
      ],
      "metadata": {
        "colab": {
          "base_uri": "https://localhost:8080/"
        },
        "id": "Tqf5rcKffTHf",
        "outputId": "93c6f33c-d438-4b4d-8aee-5a66bb368db9"
      },
      "execution_count": null,
      "outputs": [
        {
          "output_type": "stream",
          "name": "stdout",
          "text": [
            "/content/gdrive/MyDrive/GWP2M8\n"
          ]
        }
      ]
    },
    {
      "cell_type": "markdown",
      "source": [
        "# Q.1"
      ],
      "metadata": {
        "id": "fBMj8RMO06eB"
      }
    },
    {
      "cell_type": "code",
      "source": [
        "# Parameters\n",
        "outside_before = '2020-01-01'\n",
        "outside_after = '2021-12-01'\n",
        "spdr_list = ['XLF', 'XLU', 'XLRE', 'XLE', 'XLB', 'XLI', 'XLK', 'XTL', 'XLP','XLY', 'XLV']\n",
        "spdr_file = \"GWP1SPDR.xlsx\"\n",
        "factor_file = \"GWP1Factors.xlsx\""
      ],
      "metadata": {
        "id": "HOLwaFYoecc4"
      },
      "execution_count": null,
      "outputs": []
    },
    {
      "cell_type": "code",
      "source": [
        "def assemble_factors(factors):\n",
        "  factor_data = pd.DataFrame()\n",
        "  for row in factors.iterrows():\n",
        "    seriecode = row[1]['SeriesCode']\n",
        "    factor = pd.read_excel(factor_file,sheet_name=seriecode, skiprows=10)\n",
        "    factor.set_index(keys = 'observation_date', drop=False, inplace=True)\n",
        "    factor.drop(labels='observation_date', axis=1, inplace=True)\n",
        "    factor_data = factor_data.join(factor, how='outer')\n",
        "    factor_data.fillna(inplace=True, method='ffill')\n",
        "    factor_data.reset_index(inplace=True)\n",
        "    factor_data = factor_data[ (factor_data['observation_date'] > outside_before) &\n",
        "    (factor_data['observation_date'] < outside_after)]\n",
        "    factor_data.set_index(keys = 'observation_date', drop=True, inplace=True)\n",
        "    factor_data = factor_data.resample('MS').first()\n",
        "  return factor_data"
      ],
      "metadata": {
        "id": "Stf6EvJJepaC"
      },
      "execution_count": null,
      "outputs": []
    },
    {
      "cell_type": "code",
      "source": [
        "spdrs = pd.DataFrame()\n",
        "for key in spdr_list:\n",
        "  dat = pd.read_excel(spdr_file, sheet_name=key)\n",
        "  dat.set_index('observation_date', inplace=True)\n",
        "  spdrs = spdrs.join(dat, how='outer')\n",
        "  \n",
        "spdrs.fillna(inplace=True, method='ffill')\n",
        "spdrs = spdrs.resample('MS').first()\n",
        "spdrs.head()"
      ],
      "metadata": {
        "colab": {
          "base_uri": "https://localhost:8080/",
          "height": 238
        },
        "id": "KhH1XCBRe43S",
        "outputId": "e6c19ffc-5a94-4b89-8210-25a0b2c9ab23"
      },
      "execution_count": null,
      "outputs": [
        {
          "output_type": "execute_result",
          "data": {
            "text/html": [
              "<div>\n",
              "<style scoped>\n",
              "    .dataframe tbody tr th:only-of-type {\n",
              "        vertical-align: middle;\n",
              "    }\n",
              "\n",
              "    .dataframe tbody tr th {\n",
              "        vertical-align: top;\n",
              "    }\n",
              "\n",
              "    .dataframe thead th {\n",
              "        text-align: right;\n",
              "    }\n",
              "</style>\n",
              "<table border=\"1\" class=\"dataframe\">\n",
              "  <thead>\n",
              "    <tr style=\"text-align: right;\">\n",
              "      <th></th>\n",
              "      <th>XLF</th>\n",
              "      <th>XLU</th>\n",
              "      <th>XLRE</th>\n",
              "      <th>XLE</th>\n",
              "      <th>XLB</th>\n",
              "      <th>XLI</th>\n",
              "      <th>XLK</th>\n",
              "      <th>XTL</th>\n",
              "      <th>XLP</th>\n",
              "      <th>XLY</th>\n",
              "      <th>XLV</th>\n",
              "    </tr>\n",
              "    <tr>\n",
              "      <th>observation_date</th>\n",
              "      <th></th>\n",
              "      <th></th>\n",
              "      <th></th>\n",
              "      <th></th>\n",
              "      <th></th>\n",
              "      <th></th>\n",
              "      <th></th>\n",
              "      <th></th>\n",
              "      <th></th>\n",
              "      <th></th>\n",
              "      <th></th>\n",
              "    </tr>\n",
              "  </thead>\n",
              "  <tbody>\n",
              "    <tr>\n",
              "      <th>2013-12-01</th>\n",
              "      <td>17.7507</td>\n",
              "      <td>37.97</td>\n",
              "      <td>NaN</td>\n",
              "      <td>88.51</td>\n",
              "      <td>46.22</td>\n",
              "      <td>52.26</td>\n",
              "      <td>35.74</td>\n",
              "      <td>55.3300</td>\n",
              "      <td>42.98</td>\n",
              "      <td>66.83</td>\n",
              "      <td>55.440</td>\n",
              "    </tr>\n",
              "    <tr>\n",
              "      <th>2014-01-01</th>\n",
              "      <td>17.6532</td>\n",
              "      <td>37.39</td>\n",
              "      <td>NaN</td>\n",
              "      <td>87.25</td>\n",
              "      <td>45.85</td>\n",
              "      <td>51.53</td>\n",
              "      <td>35.39</td>\n",
              "      <td>54.9900</td>\n",
              "      <td>42.45</td>\n",
              "      <td>66.52</td>\n",
              "      <td>55.130</td>\n",
              "    </tr>\n",
              "    <tr>\n",
              "      <th>2014-02-01</th>\n",
              "      <td>16.6707</td>\n",
              "      <td>38.79</td>\n",
              "      <td>NaN</td>\n",
              "      <td>81.89</td>\n",
              "      <td>43.01</td>\n",
              "      <td>48.64</td>\n",
              "      <td>34.09</td>\n",
              "      <td>53.8300</td>\n",
              "      <td>39.88</td>\n",
              "      <td>61.17</td>\n",
              "      <td>54.860</td>\n",
              "    </tr>\n",
              "    <tr>\n",
              "      <th>2014-03-01</th>\n",
              "      <td>17.4827</td>\n",
              "      <td>40.05</td>\n",
              "      <td>NaN</td>\n",
              "      <td>87.09</td>\n",
              "      <td>46.97</td>\n",
              "      <td>51.71</td>\n",
              "      <td>35.96</td>\n",
              "      <td>56.0032</td>\n",
              "      <td>42.12</td>\n",
              "      <td>66.21</td>\n",
              "      <td>59.000</td>\n",
              "    </tr>\n",
              "    <tr>\n",
              "      <th>2014-04-01</th>\n",
              "      <td>18.1729</td>\n",
              "      <td>41.17</td>\n",
              "      <td>NaN</td>\n",
              "      <td>89.59</td>\n",
              "      <td>47.54</td>\n",
              "      <td>52.70</td>\n",
              "      <td>36.78</td>\n",
              "      <td>57.8757</td>\n",
              "      <td>42.99</td>\n",
              "      <td>65.62</td>\n",
              "      <td>58.855</td>\n",
              "    </tr>\n",
              "  </tbody>\n",
              "</table>\n",
              "</div>"
            ],
            "text/plain": [
              "                      XLF    XLU  XLRE    XLE  ...      XTL    XLP    XLY     XLV\n",
              "observation_date                               ...                               \n",
              "2013-12-01        17.7507  37.97   NaN  88.51  ...  55.3300  42.98  66.83  55.440\n",
              "2014-01-01        17.6532  37.39   NaN  87.25  ...  54.9900  42.45  66.52  55.130\n",
              "2014-02-01        16.6707  38.79   NaN  81.89  ...  53.8300  39.88  61.17  54.860\n",
              "2014-03-01        17.4827  40.05   NaN  87.09  ...  56.0032  42.12  66.21  59.000\n",
              "2014-04-01        18.1729  41.17   NaN  89.59  ...  57.8757  42.99  65.62  58.855\n",
              "\n",
              "[5 rows x 11 columns]"
            ]
          },
          "metadata": {},
          "execution_count": 30
        }
      ]
    },
    {
      "cell_type": "code",
      "source": [
        "factors = pd.read_excel(factor_file, sheet_name=\"Weights\")\n",
        "overall_factors = assemble_factors(factors)\n",
        "\n",
        "lei = factors[factors.TypeCode=='LEI']\n",
        "lei_factors = assemble_factors(lei)\n",
        "lei_weights = lei.set_index('Index data')['Weight']\n",
        "\n",
        "cei = factors[factors.TypeCode=='CEI']\n",
        "cei_factors = assemble_factors(cei)\n",
        "cei_weights = cei.set_index('Index data')['Weight']\n",
        "\n",
        "lag = factors[factors.TypeCode=='LAG']\n",
        "lag_factors = assemble_factors(lag)\n",
        "lag_weights = lag.set_index('Index data')['Weight']\n",
        "\n",
        "overall_factors.head()"
      ],
      "metadata": {
        "colab": {
          "base_uri": "https://localhost:8080/",
          "height": 275
        },
        "id": "8wkNWyWBfMmt",
        "outputId": "a572b81d-9165-4de6-ac5d-2b515dc62c1a"
      },
      "execution_count": null,
      "outputs": [
        {
          "output_type": "execute_result",
          "data": {
            "text/html": [
              "<div>\n",
              "<style scoped>\n",
              "    .dataframe tbody tr th:only-of-type {\n",
              "        vertical-align: middle;\n",
              "    }\n",
              "\n",
              "    .dataframe tbody tr th {\n",
              "        vertical-align: top;\n",
              "    }\n",
              "\n",
              "    .dataframe thead th {\n",
              "        text-align: right;\n",
              "    }\n",
              "</style>\n",
              "<table border=\"1\" class=\"dataframe\">\n",
              "  <thead>\n",
              "    <tr style=\"text-align: right;\">\n",
              "      <th></th>\n",
              "      <th>AWHMAN</th>\n",
              "      <th>IC4WSA</th>\n",
              "      <th>ACDGNO</th>\n",
              "      <th>ISM-NewOrders</th>\n",
              "      <th>NEWORDER</th>\n",
              "      <th>PERMIT</th>\n",
              "      <th>SP500</th>\n",
              "      <th>NFCINONFINLEVERAGE</th>\n",
              "      <th>T10YFF</th>\n",
              "      <th>UMCSENT</th>\n",
              "      <th>PAYEMS</th>\n",
              "      <th>W875RX1</th>\n",
              "      <th>INDPRO</th>\n",
              "      <th>CMRMTSPL</th>\n",
              "      <th>MNFCTRIRSA</th>\n",
              "      <th>UEMPMEAN</th>\n",
              "      <th>TDSP</th>\n",
              "      <th>TOTCI</th>\n",
              "      <th>DPRIME</th>\n",
              "      <th>ULCMFG</th>\n",
              "      <th>CUSR0000SASLE</th>\n",
              "    </tr>\n",
              "    <tr>\n",
              "      <th>observation_date</th>\n",
              "      <th></th>\n",
              "      <th></th>\n",
              "      <th></th>\n",
              "      <th></th>\n",
              "      <th></th>\n",
              "      <th></th>\n",
              "      <th></th>\n",
              "      <th></th>\n",
              "      <th></th>\n",
              "      <th></th>\n",
              "      <th></th>\n",
              "      <th></th>\n",
              "      <th></th>\n",
              "      <th></th>\n",
              "      <th></th>\n",
              "      <th></th>\n",
              "      <th></th>\n",
              "      <th></th>\n",
              "      <th></th>\n",
              "      <th></th>\n",
              "      <th></th>\n",
              "    </tr>\n",
              "  </thead>\n",
              "  <tbody>\n",
              "    <tr>\n",
              "      <th>2020-02-01</th>\n",
              "      <td>41.7</td>\n",
              "      <td>210000.0</td>\n",
              "      <td>38205.0</td>\n",
              "      <td>49.8</td>\n",
              "      <td>64885.0</td>\n",
              "      <td>1478.0</td>\n",
              "      <td>3225.52</td>\n",
              "      <td>-0.71996</td>\n",
              "      <td>-0.08</td>\n",
              "      <td>101.0</td>\n",
              "      <td>152523.0</td>\n",
              "      <td>14225.6</td>\n",
              "      <td>101.3247</td>\n",
              "      <td>1491663.0</td>\n",
              "      <td>1.51</td>\n",
              "      <td>20.8</td>\n",
              "      <td>9.789757</td>\n",
              "      <td>2351.0927</td>\n",
              "      <td>4.75</td>\n",
              "      <td>124.250</td>\n",
              "      <td>343.671</td>\n",
              "    </tr>\n",
              "    <tr>\n",
              "      <th>2020-03-01</th>\n",
              "      <td>41.3</td>\n",
              "      <td>214000.0</td>\n",
              "      <td>30301.0</td>\n",
              "      <td>42.2</td>\n",
              "      <td>64103.0</td>\n",
              "      <td>1382.0</td>\n",
              "      <td>2954.22</td>\n",
              "      <td>-0.70688</td>\n",
              "      <td>-0.45</td>\n",
              "      <td>89.1</td>\n",
              "      <td>150840.0</td>\n",
              "      <td>13872.2</td>\n",
              "      <td>97.4477</td>\n",
              "      <td>1432305.0</td>\n",
              "      <td>1.58</td>\n",
              "      <td>16.7</td>\n",
              "      <td>9.789757</td>\n",
              "      <td>2352.9421</td>\n",
              "      <td>4.75</td>\n",
              "      <td>124.250</td>\n",
              "      <td>343.850</td>\n",
              "    </tr>\n",
              "    <tr>\n",
              "      <th>2020-04-01</th>\n",
              "      <td>38.5</td>\n",
              "      <td>2344000.0</td>\n",
              "      <td>13709.0</td>\n",
              "      <td>27.1</td>\n",
              "      <td>59872.0</td>\n",
              "      <td>1094.0</td>\n",
              "      <td>2470.50</td>\n",
              "      <td>-0.73743</td>\n",
              "      <td>0.56</td>\n",
              "      <td>71.8</td>\n",
              "      <td>130161.0</td>\n",
              "      <td>13088.0</td>\n",
              "      <td>84.2018</td>\n",
              "      <td>1267304.0</td>\n",
              "      <td>1.83</td>\n",
              "      <td>6.1</td>\n",
              "      <td>8.808557</td>\n",
              "      <td>2797.0623</td>\n",
              "      <td>3.25</td>\n",
              "      <td>135.613</td>\n",
              "      <td>342.854</td>\n",
              "    </tr>\n",
              "    <tr>\n",
              "      <th>2020-05-01</th>\n",
              "      <td>39.4</td>\n",
              "      <td>4667750.0</td>\n",
              "      <td>17478.0</td>\n",
              "      <td>31.8</td>\n",
              "      <td>61297.0</td>\n",
              "      <td>1246.0</td>\n",
              "      <td>2830.71</td>\n",
              "      <td>-0.88560</td>\n",
              "      <td>0.59</td>\n",
              "      <td>72.3</td>\n",
              "      <td>132994.0</td>\n",
              "      <td>13325.5</td>\n",
              "      <td>85.8434</td>\n",
              "      <td>1368553.0</td>\n",
              "      <td>1.79</td>\n",
              "      <td>10.4</td>\n",
              "      <td>8.808557</td>\n",
              "      <td>3014.4546</td>\n",
              "      <td>3.25</td>\n",
              "      <td>135.613</td>\n",
              "      <td>342.733</td>\n",
              "    </tr>\n",
              "    <tr>\n",
              "      <th>2020-06-01</th>\n",
              "      <td>39.9</td>\n",
              "      <td>1989000.0</td>\n",
              "      <td>34092.0</td>\n",
              "      <td>56.4</td>\n",
              "      <td>64300.0</td>\n",
              "      <td>1296.0</td>\n",
              "      <td>3055.73</td>\n",
              "      <td>-1.11464</td>\n",
              "      <td>0.61</td>\n",
              "      <td>78.1</td>\n",
              "      <td>137840.0</td>\n",
              "      <td>13543.8</td>\n",
              "      <td>91.1622</td>\n",
              "      <td>1473373.0</td>\n",
              "      <td>1.63</td>\n",
              "      <td>15.5</td>\n",
              "      <td>8.808557</td>\n",
              "      <td>3018.7173</td>\n",
              "      <td>3.25</td>\n",
              "      <td>135.613</td>\n",
              "      <td>343.733</td>\n",
              "    </tr>\n",
              "  </tbody>\n",
              "</table>\n",
              "</div>"
            ],
            "text/plain": [
              "                  AWHMAN     IC4WSA   ACDGNO  ...  DPRIME   ULCMFG  CUSR0000SASLE\n",
              "observation_date                              ...                                \n",
              "2020-02-01          41.7   210000.0  38205.0  ...    4.75  124.250        343.671\n",
              "2020-03-01          41.3   214000.0  30301.0  ...    4.75  124.250        343.850\n",
              "2020-04-01          38.5  2344000.0  13709.0  ...    3.25  135.613        342.854\n",
              "2020-05-01          39.4  4667750.0  17478.0  ...    3.25  135.613        342.733\n",
              "2020-06-01          39.9  1989000.0  34092.0  ...    3.25  135.613        343.733\n",
              "\n",
              "[5 rows x 21 columns]"
            ]
          },
          "metadata": {},
          "execution_count": 31
        }
      ]
    },
    {
      "cell_type": "markdown",
      "source": [
        "# Q.2"
      ],
      "metadata": {
        "id": "Wp-vBX_00_CT"
      }
    },
    {
      "cell_type": "code",
      "source": [
        "spdrs_std = spdrs.std()\n"
      ],
      "metadata": {
        "id": "LVY53_VUfziY"
      },
      "execution_count": null,
      "outputs": []
    },
    {
      "cell_type": "code",
      "source": [
        "# std deviation of securities\n",
        "spdrs_std.head()"
      ],
      "metadata": {
        "colab": {
          "base_uri": "https://localhost:8080/"
        },
        "id": "IIsIgNgytD2C",
        "outputId": "80631e28-0830-4079-805e-fbe252517836"
      },
      "execution_count": null,
      "outputs": [
        {
          "output_type": "execute_result",
          "data": {
            "text/plain": [
              "XLF      4.176515\n",
              "XLU      6.582605\n",
              "XLRE     2.654294\n",
              "XLE     10.492681\n",
              "XLB      5.575299\n",
              "dtype: float64"
            ]
          },
          "metadata": {},
          "execution_count": 34
        }
      ]
    },
    {
      "cell_type": "code",
      "source": [
        "# correlation\n",
        "correlation = spdrs['XLU'].corr(spdrs['XLE'])\n",
        "correlation"
      ],
      "metadata": {
        "colab": {
          "base_uri": "https://localhost:8080/"
        },
        "id": "arpH6dyktHT4",
        "outputId": "8e61ad69-b13b-47f7-f414-c2d064fa8694"
      },
      "execution_count": null,
      "outputs": [
        {
          "output_type": "execute_result",
          "data": {
            "text/plain": [
              "-0.647045210690848"
            ]
          },
          "metadata": {},
          "execution_count": 36
        }
      ]
    },
    {
      "cell_type": "code",
      "source": [
        "# portfolio standarad deviation \n",
        "spdrs.std().mean()"
      ],
      "metadata": {
        "colab": {
          "base_uri": "https://localhost:8080/"
        },
        "id": "nXcnIXvWtkbM",
        "outputId": "0ab6cef4-5bc8-4ba2-9de3-afc7c62a0bab"
      },
      "execution_count": null,
      "outputs": [
        {
          "output_type": "execute_result",
          "data": {
            "text/plain": [
              "8.841816984863888"
            ]
          },
          "metadata": {},
          "execution_count": 38
        }
      ]
    },
    {
      "cell_type": "code",
      "source": [
        "spdrs_rets = spdrs.pct_change()\n",
        "spdrs_rets=spdrs_rets.dropna().reset_index()"
      ],
      "metadata": {
        "id": "z3UcOBa7tuMW"
      },
      "execution_count": null,
      "outputs": []
    },
    {
      "cell_type": "code",
      "source": [
        "# Weighted returns\n",
        "weighted_returns=sum((spdrs_rets['XLU'] + spdrs_rets['XLE'])/2)\n",
        "weighted_returns"
      ],
      "metadata": {
        "colab": {
          "base_uri": "https://localhost:8080/"
        },
        "id": "U8uLd2QMt-sP",
        "outputId": "8c8ac7e9-cb45-4c56-e2c7-1783c540526a"
      },
      "execution_count": null,
      "outputs": [
        {
          "output_type": "execute_result",
          "data": {
            "text/plain": [
              "0.25552356206110854"
            ]
          },
          "metadata": {},
          "execution_count": 51
        }
      ]
    },
    {
      "cell_type": "code",
      "source": [
        "pf_data=spdrs[['XLU','XLE']]"
      ],
      "metadata": {
        "id": "1-BAEiM6zyx_"
      },
      "execution_count": null,
      "outputs": []
    },
    {
      "cell_type": "code",
      "source": [
        "log_returns = np.log(pf_data/pf_data.shift(1))\n",
        "log_returns"
      ],
      "metadata": {
        "colab": {
          "base_uri": "https://localhost:8080/",
          "height": 455
        },
        "id": "jJrWgpRIuZ91",
        "outputId": "2cb8ccba-d94f-45cc-cb7f-b08efafbdcf9"
      },
      "execution_count": null,
      "outputs": [
        {
          "output_type": "execute_result",
          "data": {
            "text/html": [
              "<div>\n",
              "<style scoped>\n",
              "    .dataframe tbody tr th:only-of-type {\n",
              "        vertical-align: middle;\n",
              "    }\n",
              "\n",
              "    .dataframe tbody tr th {\n",
              "        vertical-align: top;\n",
              "    }\n",
              "\n",
              "    .dataframe thead th {\n",
              "        text-align: right;\n",
              "    }\n",
              "</style>\n",
              "<table border=\"1\" class=\"dataframe\">\n",
              "  <thead>\n",
              "    <tr style=\"text-align: right;\">\n",
              "      <th></th>\n",
              "      <th>XLU</th>\n",
              "      <th>XLE</th>\n",
              "    </tr>\n",
              "    <tr>\n",
              "      <th>observation_date</th>\n",
              "      <th></th>\n",
              "      <th></th>\n",
              "    </tr>\n",
              "  </thead>\n",
              "  <tbody>\n",
              "    <tr>\n",
              "      <th>2013-12-01</th>\n",
              "      <td>NaN</td>\n",
              "      <td>NaN</td>\n",
              "    </tr>\n",
              "    <tr>\n",
              "      <th>2014-01-01</th>\n",
              "      <td>-0.015393</td>\n",
              "      <td>-0.014338</td>\n",
              "    </tr>\n",
              "    <tr>\n",
              "      <th>2014-02-01</th>\n",
              "      <td>0.036759</td>\n",
              "      <td>-0.063401</td>\n",
              "    </tr>\n",
              "    <tr>\n",
              "      <th>2014-03-01</th>\n",
              "      <td>0.031966</td>\n",
              "      <td>0.061565</td>\n",
              "    </tr>\n",
              "    <tr>\n",
              "      <th>2014-04-01</th>\n",
              "      <td>0.027581</td>\n",
              "      <td>0.028302</td>\n",
              "    </tr>\n",
              "    <tr>\n",
              "      <th>...</th>\n",
              "      <td>...</td>\n",
              "      <td>...</td>\n",
              "    </tr>\n",
              "    <tr>\n",
              "      <th>2019-09-01</th>\n",
              "      <td>0.057020</td>\n",
              "      <td>-0.068900</td>\n",
              "    </tr>\n",
              "    <tr>\n",
              "      <th>2019-10-01</th>\n",
              "      <td>0.014032</td>\n",
              "      <td>0.010954</td>\n",
              "    </tr>\n",
              "    <tr>\n",
              "      <th>2019-11-01</th>\n",
              "      <td>-0.007771</td>\n",
              "      <td>0.024764</td>\n",
              "    </tr>\n",
              "    <tr>\n",
              "      <th>2019-12-01</th>\n",
              "      <td>-0.022884</td>\n",
              "      <td>-0.006601</td>\n",
              "    </tr>\n",
              "    <tr>\n",
              "      <th>2020-01-01</th>\n",
              "      <td>0.018506</td>\n",
              "      <td>0.028294</td>\n",
              "    </tr>\n",
              "  </tbody>\n",
              "</table>\n",
              "<p>74 rows × 2 columns</p>\n",
              "</div>"
            ],
            "text/plain": [
              "                       XLU       XLE\n",
              "observation_date                    \n",
              "2013-12-01             NaN       NaN\n",
              "2014-01-01       -0.015393 -0.014338\n",
              "2014-02-01        0.036759 -0.063401\n",
              "2014-03-01        0.031966  0.061565\n",
              "2014-04-01        0.027581  0.028302\n",
              "...                    ...       ...\n",
              "2019-09-01        0.057020 -0.068900\n",
              "2019-10-01        0.014032  0.010954\n",
              "2019-11-01       -0.007771  0.024764\n",
              "2019-12-01       -0.022884 -0.006601\n",
              "2020-01-01        0.018506  0.028294\n",
              "\n",
              "[74 rows x 2 columns]"
            ]
          },
          "metadata": {},
          "execution_count": 55
        }
      ]
    },
    {
      "cell_type": "code",
      "source": [
        "# log returns\n",
        "log_returns.cov()"
      ],
      "metadata": {
        "colab": {
          "base_uri": "https://localhost:8080/",
          "height": 112
        },
        "id": "-PIjBe71z7Qo",
        "outputId": "48687f7d-0ddf-479a-b13e-5d14aa105512"
      },
      "execution_count": null,
      "outputs": [
        {
          "output_type": "execute_result",
          "data": {
            "text/html": [
              "<div>\n",
              "<style scoped>\n",
              "    .dataframe tbody tr th:only-of-type {\n",
              "        vertical-align: middle;\n",
              "    }\n",
              "\n",
              "    .dataframe tbody tr th {\n",
              "        vertical-align: top;\n",
              "    }\n",
              "\n",
              "    .dataframe thead th {\n",
              "        text-align: right;\n",
              "    }\n",
              "</style>\n",
              "<table border=\"1\" class=\"dataframe\">\n",
              "  <thead>\n",
              "    <tr style=\"text-align: right;\">\n",
              "      <th></th>\n",
              "      <th>XLU</th>\n",
              "      <th>XLE</th>\n",
              "    </tr>\n",
              "  </thead>\n",
              "  <tbody>\n",
              "    <tr>\n",
              "      <th>XLU</th>\n",
              "      <td>0.001442</td>\n",
              "      <td>0.000116</td>\n",
              "    </tr>\n",
              "    <tr>\n",
              "      <th>XLE</th>\n",
              "      <td>0.000116</td>\n",
              "      <td>0.003248</td>\n",
              "    </tr>\n",
              "  </tbody>\n",
              "</table>\n",
              "</div>"
            ],
            "text/plain": [
              "          XLU       XLE\n",
              "XLU  0.001442  0.000116\n",
              "XLE  0.000116  0.003248"
            ]
          },
          "metadata": {},
          "execution_count": 56
        }
      ]
    },
    {
      "cell_type": "markdown",
      "source": [
        "# Q.3"
      ],
      "metadata": {
        "id": "Jo_UOPm81B1C"
      }
    },
    {
      "cell_type": "code",
      "source": [
        "portfolio_returns = []\n",
        "portfolio_volatilities = []\n",
        "assets = ['XLU', 'XLE']\n",
        "\n",
        "for x in range(1000):\n",
        "    weights = np.random.random(len(assets))\n",
        "    weights /= np.sum(weights)\n",
        "    \n",
        "    portfolio_returns.append(np.sum(weights * log_returns.mean()) * 250)\n",
        "    portfolio_volatilities.append(np.sqrt(np.dot(weights.T,                                    np.dot(log_returns.cov() * 250, weights))))\n",
        "                    \n",
        "portfolio_returns = np.array(portfolio_returns)\n",
        "portfolio_volatilities = np.array(portfolio_volatilities)\n",
        "                                  \n",
        "portfolio_returns, portfolio_volatilities"
      ],
      "metadata": {
        "colab": {
          "base_uri": "https://localhost:8080/"
        },
        "id": "fBGA9JnT0A7M",
        "outputId": "1965a78a-bbe4-4df3-90c0-c3ea5ac95d42"
      },
      "execution_count": null,
      "outputs": [
        {
          "output_type": "execute_result",
          "data": {
            "text/plain": [
              "(array([ 4.33967946e-01,  9.58386020e-01, -8.29705758e-02,  3.62555173e-01,\n",
              "         7.44947951e-02, -6.03175345e-01,  8.25753642e-01, -4.58928613e-01,\n",
              "        -7.87084151e-01,  8.88126758e-01, -1.17964309e+00,  1.15133569e+00,\n",
              "        -4.23812497e-01,  7.87442812e-01,  4.46430630e-01,  1.55616646e+00,\n",
              "         8.60110648e-01,  9.92085818e-01, -4.56321499e-01,  6.55483432e-01,\n",
              "        -1.16311054e+00, -3.88848928e-01,  8.84354268e-01,  8.47493385e-01,\n",
              "         2.05639547e-01, -6.35760864e-01,  1.70042424e-04, -7.34255104e-01,\n",
              "         1.76459807e+00, -6.24967872e-02,  1.27825265e+00, -4.24150934e-01,\n",
              "        -5.06881711e-01, -4.43168715e-01,  4.40701579e-01, -2.08710226e-01,\n",
              "         2.66385921e-01, -4.08840005e-02,  1.31109141e+00, -7.33984516e-01,\n",
              "        -4.30528162e-01, -4.76121212e-01, -7.78823852e-02, -1.30358994e-02,\n",
              "         1.32731614e-01, -3.28259190e-01, -3.16192723e-01,  1.31185239e+00,\n",
              "         3.12200839e-01, -2.27250249e-01,  1.53116010e+00, -1.89724138e-01,\n",
              "         4.69000057e-01, -1.11008838e+00,  6.12113893e-01,  3.83557610e-01,\n",
              "         2.19234735e-01,  9.03666100e-02, -9.81644421e-01,  9.32185582e-01,\n",
              "         1.23322486e+00,  1.26145222e+00,  5.33382500e-01,  2.29676758e-01,\n",
              "         9.79612253e-01,  4.43785972e-02, -4.69091471e-01, -5.97621703e-02,\n",
              "         1.33140263e+00,  8.16734952e-01,  5.61646524e-01,  3.58438911e-01,\n",
              "         9.03563946e-02, -2.55190626e-01,  3.28035925e-01, -1.15433733e-01,\n",
              "         6.61224790e-01,  1.98352864e-01,  7.90533065e-01,  1.29430645e+00,\n",
              "        -1.68996737e-01, -1.18965358e-01,  1.37384125e+00,  8.21648513e-01,\n",
              "         8.29700032e-01,  2.37760287e-01,  9.23487522e-01,  8.48876290e-01,\n",
              "        -3.40579355e-01,  1.35768356e+00, -1.16497854e+00,  6.72482465e-02,\n",
              "        -1.09786405e+00,  1.83274233e-01, -1.21426024e+00, -3.96485898e-02,\n",
              "         1.46017655e-01,  1.75058526e+00, -4.82503288e-01,  2.93026732e-01,\n",
              "         8.73511232e-01, -1.15795368e-01,  2.01338570e-02,  7.69395804e-02,\n",
              "         1.15635791e-01,  8.52745518e-02,  5.05132249e-01,  1.23234009e+00,\n",
              "        -3.62201599e-01,  4.79586898e-01,  1.24101141e-01,  8.28190667e-01,\n",
              "        -1.14105899e+00,  3.05121703e-01,  1.45591161e+00,  1.23903986e+00,\n",
              "         9.71949491e-01, -8.32403199e-02, -9.78371199e-01, -7.35265794e-01,\n",
              "         7.93621859e-01,  4.09962288e-01,  1.37615218e+00, -1.89117600e-02,\n",
              "         7.28427983e-01,  3.50490127e-01, -8.45854011e-01, -5.18624762e-01,\n",
              "        -6.70693921e-01,  6.36665729e-01,  7.53936107e-02,  7.00182729e-01,\n",
              "         3.22648377e-01,  1.05846838e+00,  1.45264344e+00,  1.38872120e-01,\n",
              "         1.31501361e+00, -2.23597119e-01,  8.22950107e-02, -1.13920643e+00,\n",
              "         3.37861987e-01,  9.05417014e-01,  8.87315300e-01,  1.09124626e+00,\n",
              "        -6.60679667e-01, -1.17449989e+00,  5.58159618e-01,  1.14216458e+00,\n",
              "         6.67979272e-01,  3.40095377e-01,  1.05156917e+00,  1.58477309e-02,\n",
              "         2.69652958e-01, -1.70526195e-01,  8.89112585e-01, -3.75203591e-01,\n",
              "         3.43856561e-01,  1.12424026e+00, -8.59578070e-01,  1.40785621e+00,\n",
              "        -3.16181291e-02,  5.57096646e-01,  3.73939952e-01,  7.26625121e-01,\n",
              "        -1.07823176e+00,  1.38849475e+00, -1.32751728e-01,  7.51336492e-01,\n",
              "        -1.01725576e+00,  7.61905829e-01,  1.03965975e+00,  1.01331480e+00,\n",
              "         8.16334304e-01, -3.66868989e-01,  2.29412435e-01,  2.58238685e-01,\n",
              "        -2.78023307e-01,  4.40154309e-02,  1.34542927e+00, -7.96876531e-01,\n",
              "        -3.44856730e-01,  6.79361616e-01, -8.41935506e-01,  9.72731954e-01,\n",
              "        -8.07300385e-01, -1.85279279e-01,  1.41137345e+00,  3.76085418e-01,\n",
              "         1.44955758e+00,  7.50034162e-01, -1.28911112e-02,  4.37600810e-01,\n",
              "        -1.25871435e-01,  1.70747920e+00,  2.06065494e-01,  1.12219496e-01,\n",
              "         3.02760632e-01,  5.15019780e-01,  8.84719779e-02,  4.42480491e-01,\n",
              "        -2.71846517e-01,  9.37928496e-01,  2.42419313e-01,  1.90882686e-01,\n",
              "         3.34269165e-01,  2.54499085e-01,  3.13064888e-01,  4.00390916e-01,\n",
              "         3.88059778e-01,  1.02529795e+00, -9.78327189e-01,  1.21449681e+00,\n",
              "         1.53704229e-01,  1.15396150e+00,  1.04185442e+00, -5.11367987e-01,\n",
              "        -2.68098481e-01,  9.98542358e-01, -4.78452176e-01,  1.07243160e+00,\n",
              "        -9.31797696e-01, -3.98908450e-01,  6.20466811e-01,  3.65883897e-01,\n",
              "         1.03069857e+00,  4.73537454e-01,  1.25095660e-01,  2.47561873e-01,\n",
              "         3.93090659e-01, -4.53975029e-01,  8.00898880e-01,  6.09640848e-01,\n",
              "         3.39530135e-01, -3.03728700e-01,  2.63935276e-01,  4.35900149e-01,\n",
              "         1.23147097e+00,  7.41186017e-01, -7.23856988e-02,  2.56897329e-02,\n",
              "         4.65740190e-01, -6.22799816e-01,  2.65269812e-01,  6.13500631e-01,\n",
              "        -1.72158188e-01, -1.10049157e+00,  9.94556573e-01,  3.54525854e-01,\n",
              "        -1.09226980e+00,  6.49392140e-01,  1.18549136e+00, -3.74344725e-01,\n",
              "        -6.00458948e-01,  5.20005932e-01, -6.09281086e-01, -9.54168901e-01,\n",
              "         5.72227182e-02, -2.80362307e-02,  4.21151073e-01,  1.62573244e-01,\n",
              "         6.95303165e-01,  7.57977377e-01,  1.52915707e+00,  5.79175295e-01,\n",
              "         3.65590323e-02,  3.27216652e-01, -2.27805471e-01,  1.76609659e-01,\n",
              "        -3.39704104e-01,  8.03594667e-01, -1.39334368e-01,  1.28076208e-01,\n",
              "         1.43348760e+00, -7.19983967e-01,  1.24292985e+00,  4.72477386e-01,\n",
              "        -1.28103852e-01, -1.38489134e-01, -6.44834816e-02, -7.69374165e-01,\n",
              "         9.35039168e-02,  4.05011782e-01,  8.63433600e-01,  4.39365059e-02,\n",
              "         3.51801449e-01,  9.86924379e-01,  1.14150207e+00,  1.12010822e+00,\n",
              "        -2.60311110e-01,  1.15386916e-02, -8.28912500e-01,  9.48538200e-01,\n",
              "         1.28306645e+00, -7.41838001e-01,  1.51063979e+00, -5.07790610e-02,\n",
              "        -1.03396889e+00,  6.72780930e-01,  1.76737036e-01,  4.37774336e-01,\n",
              "         1.28441508e-01, -2.00601611e-01, -4.70461752e-02,  2.53411520e-01,\n",
              "        -1.20022735e+00, -1.19587340e+00, -1.20271678e+00, -6.36889663e-02,\n",
              "         2.18943569e-01, -6.73493115e-01, -4.44431760e-01,  1.10042359e+00,\n",
              "        -9.44542961e-01,  8.42613737e-01,  4.01480848e-01,  6.40579888e-01,\n",
              "         5.09714436e-01, -9.85486660e-01, -2.30415694e-01,  2.31260180e-01,\n",
              "        -4.27997957e-01,  2.98985090e-01, -5.98849587e-02,  4.91930874e-01,\n",
              "         2.62123472e-01,  3.82868386e-01,  2.70899974e-01,  2.25301261e-01,\n",
              "         3.56910341e-01, -1.11217358e+00, -6.29798966e-01, -2.41819289e-01,\n",
              "         1.28692514e+00,  1.06654384e+00,  1.64644077e+00,  5.49826039e-02,\n",
              "         4.07001087e-01,  3.50980044e-01, -2.60009000e-03,  2.31334562e-01,\n",
              "        -1.98739983e-01,  2.73989552e-01,  9.43731402e-01,  1.53007555e+00,\n",
              "        -7.90836449e-01,  2.19467551e-01,  1.56533452e-01, -1.09917816e-02,\n",
              "         2.48950169e-01,  6.80296503e-01,  1.40627014e+00,  2.69626808e-01,\n",
              "         7.10162740e-01,  4.48087276e-01,  4.82085707e-01,  7.51293520e-01,\n",
              "         1.53090738e+00,  3.03813556e-01, -2.45969010e-01,  1.54551934e+00,\n",
              "         4.77291403e-01,  2.48403344e-01, -5.37174602e-01, -4.63445171e-01,\n",
              "        -4.85813219e-01,  2.38897911e-01,  3.57460871e-01, -3.87279282e-01,\n",
              "         2.76729404e-01,  8.28194033e-01, -1.60429368e-01,  1.66100958e+00,\n",
              "         6.06793527e-01,  2.92130238e-01,  1.67908067e-01,  1.18490686e+00,\n",
              "        -7.42123066e-01,  5.18462248e-01, -1.73233392e-01,  3.76166649e-02,\n",
              "         6.88739704e-02,  2.54434073e-01,  1.76981780e-01,  1.73827853e+00,\n",
              "         4.70070322e-01, -5.73384183e-01, -1.10092908e+00, -6.58414813e-01,\n",
              "         1.47988031e-01, -1.21943004e+00, -2.46730254e-01,  7.06414639e-01,\n",
              "         1.07663847e+00, -1.35242759e-01, -5.60939383e-01, -2.68083698e-01,\n",
              "         7.60166904e-01, -7.14724591e-01,  1.35387481e+00,  3.47159677e-01,\n",
              "         5.17927273e-01,  1.42203772e+00,  1.66333985e+00,  1.37070094e+00,\n",
              "         6.33580515e-01,  1.18932778e+00, -8.59146037e-01,  1.83565594e-01,\n",
              "         1.02529019e+00,  7.38252871e-01,  7.48893074e-03,  7.80748038e-02,\n",
              "        -7.81573412e-01,  3.40577951e-01,  2.87096190e-01,  8.87887589e-01,\n",
              "         6.98760666e-01, -1.52329471e-01,  7.67831508e-02, -5.32249135e-01,\n",
              "         2.15468677e-01,  5.35796828e-02,  1.44019185e-01,  1.54820849e+00,\n",
              "         3.53317810e-01,  4.76712536e-01,  1.28907435e+00,  3.29323765e-01,\n",
              "        -1.46325058e-01, -1.39228209e-01, -4.14419566e-01,  2.43135923e-01,\n",
              "         1.45110780e+00, -2.24334440e-02, -4.55167160e-01,  9.51943844e-02,\n",
              "         5.57830189e-01,  4.51494218e-01,  1.50983493e+00, -3.04254809e-01,\n",
              "         3.23814283e-01,  1.33661118e+00,  5.44874784e-02, -1.16945237e+00,\n",
              "        -2.75386991e-01,  2.32990820e-01,  5.79095981e-01,  6.53236790e-01,\n",
              "         2.18960851e-01, -4.30939460e-02, -5.05622691e-01,  1.25106358e+00,\n",
              "        -5.74150070e-01, -8.12451565e-01,  1.44629802e+00,  4.77374950e-01,\n",
              "        -1.20466118e+00,  6.49830787e-01,  8.46942396e-02,  2.33970795e-02,\n",
              "         1.67554201e+00, -8.23448700e-01, -5.53592548e-01,  2.49254038e-02,\n",
              "        -8.02525979e-01,  7.48914697e-01,  1.68937933e+00, -3.59828853e-01,\n",
              "        -1.90477523e-01,  7.43892180e-02, -1.01010243e+00, -5.41092319e-01,\n",
              "        -1.20119366e+00,  5.53519533e-01,  7.53438840e-01, -6.52478670e-01,\n",
              "         3.32964824e-01,  7.43672679e-01,  9.20228721e-02, -5.84762613e-01,\n",
              "         7.57310495e-02, -1.25248653e+00,  8.97649773e-02,  1.03689857e+00,\n",
              "         3.05914858e-01,  3.54727207e-01,  4.77377005e-01,  7.97502206e-01,\n",
              "         9.23203584e-01, -5.47240696e-01,  4.30376837e-01,  9.54887337e-01,\n",
              "         1.33392318e+00,  2.15062402e-01,  1.63958600e+00,  1.01322663e-01,\n",
              "         1.58183343e+00, -9.88608848e-02,  2.40823877e-02,  5.88069788e-01,\n",
              "         1.26472999e+00,  7.14786644e-01, -1.29450558e+00, -6.18927189e-02,\n",
              "         4.68752595e-01,  1.78974267e-01,  1.60656569e+00, -9.71911687e-01,\n",
              "        -5.31499808e-01,  6.24741564e-01, -1.84816763e-01,  6.02301637e-01,\n",
              "        -7.10095387e-02,  7.31634239e-02,  1.13285776e+00, -6.71915818e-02,\n",
              "         5.92131440e-01,  1.64936006e+00, -2.95105496e-01,  1.74836069e+00,\n",
              "        -5.15014300e-01,  1.71440285e+00,  1.00956735e+00, -3.98475916e-01,\n",
              "        -2.01345356e-01, -1.28485604e-01,  1.63200107e-01,  1.70408225e+00,\n",
              "         5.09395639e-02,  1.35070387e+00,  7.85285182e-01,  1.38401822e+00,\n",
              "         1.09901440e+00,  5.66023573e-01,  1.70622106e+00, -9.13551931e-02,\n",
              "         3.02700094e-01, -1.91080260e-01, -6.37758683e-01,  8.70185335e-01,\n",
              "         1.07615619e+00,  3.87559322e-01, -4.38486972e-01,  8.98861909e-01,\n",
              "        -8.75773975e-01, -3.33262921e-01,  2.16482277e-01,  3.68786391e-01,\n",
              "         1.44140687e-01,  3.02179556e-02, -3.54698655e-01,  7.23605464e-02,\n",
              "         2.90156121e-01,  2.90452688e-01,  1.00277397e+00,  8.62146544e-01,\n",
              "         1.47276424e+00,  3.28943513e-01, -4.92338970e-02,  7.95938942e-01,\n",
              "         1.46897341e+00, -1.03426843e+00,  1.00001667e+00,  1.19027255e+00,\n",
              "         1.26558160e+00,  1.05207016e+00, -1.77975273e-01,  6.99294674e-01,\n",
              "         3.25653050e-01, -4.76878411e-01, -1.17331649e-01,  9.69313888e-01,\n",
              "         4.94185235e-01,  1.21775190e+00,  6.70708253e-01,  3.07091575e-01,\n",
              "         4.46335335e-01,  2.23835242e-01,  1.10819816e+00, -3.43284305e-01,\n",
              "         2.18770290e-01,  1.12097327e+00,  8.15734375e-01,  7.28938388e-01,\n",
              "         1.70161298e+00,  1.27365232e+00,  1.22541854e+00, -2.31520097e-01,\n",
              "         2.53070096e-01,  6.81744802e-01, -4.53808301e-01,  7.64281218e-01,\n",
              "        -1.02725420e+00,  7.75239316e-01,  1.44039264e-01,  1.52866965e+00,\n",
              "         1.42951670e+00,  1.45205396e+00,  1.11623480e+00, -1.12414149e+00,\n",
              "         3.07726880e-01,  3.90570442e-01,  1.75792591e+00,  6.91282826e-01,\n",
              "         1.36433662e+00,  6.10933168e-01,  2.26793396e-01,  9.64778134e-01,\n",
              "        -3.80542346e-01,  1.08913142e+00, -2.83471847e-01,  7.54071362e-01,\n",
              "        -5.66399089e-01,  4.48212238e-01,  1.56903248e+00,  1.17174523e+00,\n",
              "        -2.34623585e-01,  6.48239552e-01, -3.75638061e-01,  4.46752462e-01,\n",
              "         9.22343344e-01,  3.06346023e-02,  1.33552954e+00, -4.66718546e-01,\n",
              "         3.48985506e-01, -4.56406672e-01, -6.73349883e-01,  1.32834043e+00,\n",
              "         6.19573690e-01, -7.90647003e-01,  1.33849500e+00, -1.81310870e-01,\n",
              "         5.94645689e-02,  1.68494934e+00,  2.19652072e-01,  1.54220293e+00,\n",
              "        -3.82726835e-02,  1.45302626e+00, -9.44708162e-01, -5.79110080e-01,\n",
              "        -4.03325219e-02,  5.78505118e-01, -5.47083200e-01, -5.56943599e-01,\n",
              "         9.87590272e-01, -1.01861411e+00,  5.72658074e-01, -9.32431033e-01,\n",
              "        -9.24274039e-01, -6.18599139e-01,  2.25864535e-01, -7.34377416e-01,\n",
              "         1.08066700e+00,  7.68841333e-01,  7.85484811e-01,  9.96501425e-01,\n",
              "         1.58457845e+00,  2.61479124e-01, -7.00597228e-01,  1.28074953e+00,\n",
              "        -1.10285740e-02,  1.69710194e+00, -3.38614074e-02,  8.59935636e-01,\n",
              "         4.92404000e-01, -8.95341615e-01, -7.10834604e-01, -8.24396896e-01,\n",
              "         1.27094473e+00, -4.13464570e-01,  1.10064919e+00,  5.40792180e-01,\n",
              "         6.04834115e-01,  1.46758358e-01,  1.06145628e+00, -2.63971375e-01,\n",
              "         1.22926937e+00,  3.95582753e-01,  7.86626140e-01,  8.12444256e-01,\n",
              "        -4.36330048e-02, -4.97375918e-01,  9.62298960e-01, -4.06516383e-01,\n",
              "        -1.61179961e-01,  5.20032940e-01,  1.01607927e+00, -9.91697183e-01,\n",
              "         5.95034839e-01,  1.48792748e+00, -4.96339674e-01, -3.83947376e-01,\n",
              "         4.30953513e-01,  4.66620489e-02, -8.24927548e-01,  1.55980842e+00,\n",
              "         8.79159730e-01, -1.24798767e-01, -8.84425932e-01,  1.17765858e+00,\n",
              "         2.48722337e-01,  9.42478881e-01, -6.10555162e-01,  4.56809674e-02,\n",
              "        -2.57819630e-01,  5.15337203e-01,  2.77175370e-02, -2.22007726e-01,\n",
              "         4.39083069e-01,  1.25066127e+00, -3.37857303e-01, -9.92799018e-01,\n",
              "         7.42601326e-01, -1.09214240e+00, -9.01812195e-01,  1.11362437e+00,\n",
              "        -1.81532022e-01,  3.67185729e-02,  1.33924709e+00,  1.82585561e-01,\n",
              "         5.01273657e-01, -1.29956126e-01,  9.90735682e-02,  1.20246002e+00,\n",
              "         1.61458622e+00, -5.49482560e-01,  9.23689382e-01,  1.21579782e+00,\n",
              "        -9.80175798e-01, -4.93120278e-01,  5.49755353e-01,  9.80547012e-01,\n",
              "         6.63236725e-01,  5.62055414e-01,  2.14249295e-01,  7.44557746e-01,\n",
              "         1.39308700e+00,  1.21125254e-01,  1.22820927e+00, -4.78292736e-02,\n",
              "        -7.15642439e-01,  1.84835584e-01, -5.43771149e-01,  1.41323430e+00,\n",
              "        -9.75469599e-01,  1.96228723e-01,  9.07552478e-01,  1.47868218e+00,\n",
              "        -9.38172517e-01, -6.90845475e-01, -9.11145477e-02,  1.54865030e+00,\n",
              "         3.08768027e-01,  1.42507813e+00,  5.03145952e-01,  4.66006412e-01,\n",
              "        -1.01071081e+00, -1.11892321e+00,  1.24413410e-01,  4.02329173e-01,\n",
              "         8.29446076e-01, -4.87104786e-01, -3.44297592e-01,  7.55307889e-01,\n",
              "         1.07018419e+00, -4.21578346e-01, -4.02663420e-03, -4.19796079e-01,\n",
              "         6.24298934e-01,  9.52691266e-02, -2.45738163e-01,  2.27393660e-01,\n",
              "         4.57681284e-01,  7.84936306e-01,  3.53047348e-01,  4.18337188e-01,\n",
              "        -2.81125324e-01,  4.70837218e-01,  2.70831904e-01,  5.83734700e-01,\n",
              "         6.29611097e-01,  4.81763774e-01, -9.03832537e-02, -7.16170313e-01,\n",
              "        -5.64703988e-01,  1.70910978e+00, -1.13114730e+00,  1.01738418e-01,\n",
              "        -4.48617427e-01,  9.80564959e-02, -8.86513915e-01, -9.91402620e-01,\n",
              "        -5.44210025e-01,  7.27264253e-01,  8.83412492e-01,  5.17316054e-01,\n",
              "        -9.70904029e-01,  5.26628861e-01,  2.26040768e-01,  4.88699833e-01,\n",
              "         1.11711816e+00,  1.69132313e+00, -5.84986942e-01,  1.67678891e+00,\n",
              "        -1.50870731e-01, -1.18562390e+00,  5.19065400e-01,  2.78916102e-01,\n",
              "        -7.24476912e-02, -1.24076771e+00,  1.53226547e+00,  1.29225898e+00,\n",
              "         1.39997082e+00,  8.88058773e-01,  5.05776437e-01,  2.53040576e-01,\n",
              "        -3.79498320e-01,  7.49524154e-01,  5.71412343e-01, -3.63054021e-02,\n",
              "         4.38505860e-01,  3.68630320e-04, -4.54179059e-01,  1.19675560e+00,\n",
              "         1.45005873e+00,  3.82206586e-01,  6.20815228e-01, -1.26069987e+00,\n",
              "         1.68207970e+00,  5.82148935e-01,  6.84432416e-01,  3.31046595e-01,\n",
              "        -6.81978847e-01,  5.60033462e-01,  1.54335277e-01, -1.15111298e+00,\n",
              "         1.05338037e+00, -9.88252148e-01,  6.85888429e-02,  5.02934887e-01,\n",
              "         1.52966816e+00, -4.00860994e-01, -8.46469317e-01, -1.04126253e-01,\n",
              "        -3.50516743e-01,  1.11501947e+00, -2.96260322e-01,  1.50418103e+00,\n",
              "        -7.57791001e-01,  5.00233532e-03,  1.10718646e-01, -2.02490112e-01,\n",
              "         1.39085181e+00,  1.56665202e-01,  3.67223353e-01,  9.76239921e-01,\n",
              "         3.91496810e-01, -5.85438888e-01,  9.10375916e-01, -1.11185547e+00,\n",
              "        -8.68342929e-01,  4.17357493e-01,  1.00911440e+00,  2.55001585e-01,\n",
              "        -9.04529585e-01, -8.72101394e-01,  4.18780507e-01, -1.40164141e-01,\n",
              "         1.64779783e+00, -2.18304698e-02,  7.77595368e-01,  3.53132142e-01,\n",
              "         9.45532421e-01,  6.01829652e-01,  1.75304009e+00, -2.12317522e-01,\n",
              "        -1.23847410e+00,  3.51943424e-01,  1.16329765e+00,  1.04383336e+00,\n",
              "        -4.38963009e-01,  1.60734953e-01,  1.13505722e+00,  5.43814888e-01,\n",
              "         2.64063716e-01, -8.76603214e-01,  4.72989030e-01,  7.53806690e-01,\n",
              "         1.91141143e-01, -6.10791752e-02,  8.70193700e-01, -2.95410309e-01,\n",
              "         1.59910624e+00, -5.54510835e-01,  9.22874131e-01,  8.08346237e-01,\n",
              "         3.05921409e-01,  1.18155321e+00,  2.58062379e-01,  3.82624024e-01,\n",
              "         8.57780903e-01,  1.81890492e-01,  1.26465802e+00,  1.41257708e+00,\n",
              "        -2.36107560e-01, -2.42555714e-01, -5.74115805e-02,  1.35181055e+00,\n",
              "         1.66799550e+00,  6.06393435e-01,  8.00322514e-02, -4.33817808e-01,\n",
              "         1.45862500e+00,  2.73610045e-01, -4.41876120e-01, -1.09538374e+00,\n",
              "         6.42477617e-01,  1.82056677e-02,  8.22532600e-01, -1.12988058e+00,\n",
              "        -9.06964808e-01,  9.25428458e-01, -2.93707191e-01, -8.46779082e-01,\n",
              "         6.42799466e-01, -5.07272042e-01, -2.38252068e-01,  1.39442441e+00,\n",
              "        -1.03124958e+00, -1.10020839e-01, -8.12349909e-01,  1.61125586e-01,\n",
              "         8.60672728e-02,  4.09940859e-01, -1.98523527e-01,  1.34203561e+00,\n",
              "        -8.66277559e-01, -7.23085714e-01,  9.81171837e-01,  2.67208702e-01,\n",
              "         7.74627374e-01,  1.09588723e+00, -7.03394238e-01, -8.67621600e-01,\n",
              "         7.64231606e-01,  8.60946679e-01,  3.41075301e-01,  6.54818050e-01,\n",
              "        -4.49639567e-01,  9.73783798e-01,  1.01549840e-01,  1.37633581e+00,\n",
              "         1.55819454e+00,  1.62288668e+00,  1.22923925e-01, -9.12086895e-01,\n",
              "         9.19381603e-01,  7.21516987e-02,  5.00112589e-02, -9.42988336e-01,\n",
              "         9.66569435e-01,  1.34197567e+00,  1.74919157e+00, -5.99406905e-02,\n",
              "         2.58851549e-01,  3.17407176e-01,  8.75252682e-01, -8.37751448e-01,\n",
              "        -3.09352434e-01, -2.55550144e-01, -9.56914539e-01,  1.06219317e-01,\n",
              "        -1.77310242e-01,  6.60669407e-01,  1.75651412e-02,  3.33178394e-01,\n",
              "         4.34873301e-01,  6.30717530e-01,  3.82331276e-01,  8.27860475e-01,\n",
              "         4.31369780e-01,  5.83039987e-01, -9.36168244e-01,  8.37386801e-01,\n",
              "         3.09814309e-01,  3.75197652e-01,  1.67320180e+00, -3.31355499e-01,\n",
              "         8.50897113e-01, -8.42235616e-01, -4.92848714e-01, -6.27710006e-01,\n",
              "        -1.55940706e-01, -6.63277343e-01,  6.71257142e-02, -6.71564091e-01,\n",
              "         9.69656112e-01,  5.77342869e-01,  1.76866197e+00,  4.29137148e-01]),\n",
              " array([0.53251103, 0.51284975, 0.60599237, 0.53979442, 0.57885828,\n",
              "        0.71760389, 0.51195037, 0.68381654, 0.76317278, 0.51186962,\n",
              "        0.86782296, 0.52130056, 0.67588436, 0.5124434 , 0.53134558,\n",
              "        0.564439  , 0.51179516, 0.51372095, 0.68322349, 0.51670502,\n",
              "        0.86324748, 0.66810905, 0.51184908, 0.51182061, 0.55924824,\n",
              "        0.72548636, 0.59120563, 0.74982253, 0.59813043, 0.60225932,\n",
              "        0.531304  , 0.67596023, 0.69483975, 0.68024166, 0.53187738,\n",
              "        0.63015317, 0.55117471, 0.59838283, 0.53444014, 0.74975466,\n",
              "        0.67739193, 0.68774372, 0.60505916, 0.59348732, 0.56979476,\n",
              "        0.65493694, 0.65236109, 0.53451541, 0.54553379, 0.63388624,\n",
              "        0.56087401, 0.62637421, 0.52931644, 0.84866277, 0.51896151,\n",
              "        0.53754666, 0.5573838 , 0.57633354, 0.81393507, 0.51235181,\n",
              "        0.5273651 , 0.52978506, 0.52411417, 0.55597413, 0.51336829,\n",
              "        0.58375857, 0.68613455, 0.60176516, 0.53648921, 0.5120361 ,\n",
              "        0.52210939, 0.54024513, 0.57633515, 0.6395905 , 0.54367624,\n",
              "        0.61203018, 0.51643771, 0.56026097, 0.51239114, 0.53280968,\n",
              "        0.62230036, 0.61269565, 0.54103544, 0.51198707, 0.51191874,\n",
              "        0.55489628, 0.5122213 , 0.51181603, 0.65758344, 0.5392627 ,\n",
              "        0.86376381, 0.58002434, 0.84532011, 0.56238618, 0.87744501,\n",
              "        0.59816327, 0.56780531, 0.59565583, 0.68920869, 0.54784675,\n",
              "        0.51180824, 0.61209824, 0.58780586, 0.57846676, 0.57239794,\n",
              "        0.57713914, 0.526289  , 0.52729194, 0.66226782, 0.52840105,\n",
              "        0.57110287, 0.51193041, 0.85716502, 0.54637965, 0.55081408,\n",
              "        0.52784999, 0.51316923, 0.60604195, 0.81306192, 0.75007605,\n",
              "        0.5123411 , 0.53484515, 0.54129315, 0.59451082, 0.51386057,\n",
              "        0.54112487, 0.77825152, 0.6975718 , 0.73403191, 0.51763274,\n",
              "        0.57871423, 0.51481946, 0.54430285, 0.51619119, 0.55040045,\n",
              "        0.5688716 , 0.53482936, 0.63314736, 0.57761245, 0.85665511,\n",
              "        0.54254776, 0.51200568, 0.51186493, 0.51777637, 0.73157228,\n",
              "        0.86639816, 0.5223474 , 0.52071141, 0.51613269, 0.54229386,\n",
              "        0.51588817, 0.58853071, 0.55075951, 0.6225991 , 0.51187553,\n",
              "        0.66510862, 0.54186846, 0.51961309, 0.78180579, 0.54493298,\n",
              "        0.59674142, 0.52242048, 0.53856517, 0.51391637, 0.8399678 ,\n",
              "        0.54268713, 0.61530941, 0.51321602, 0.82347373, 0.51295899,\n",
              "        0.51539026, 0.5144025 , 0.51204034, 0.66328554, 0.55600957,\n",
              "        0.55221868, 0.64432044, 0.58381853, 0.53795244, 0.76566897,\n",
              "        0.65850613, 0.51564184, 0.77723896, 0.51318894, 0.76833337,\n",
              "        0.62549602, 0.54534866, 0.53833638, 0.5500117 , 0.51324945,\n",
              "        0.59346216, 0.53216801, 0.61400181, 0.58822471, 0.55918933,\n",
              "        0.57292393, 0.54666388, 0.52550849, 0.5766328 , 0.53171153,\n",
              "        0.64303489, 0.5124475 , 0.55428041, 0.56130887, 0.54295822,\n",
              "        0.55270194, 0.5454312 , 0.53580828, 0.53707618, 0.51483234,\n",
              "        0.81305019, 0.52585186, 0.56666789, 0.52147261, 0.51547961,\n",
              "        0.695882  , 0.64225698, 0.5139174 , 0.68827833, 0.51683713,\n",
              "        0.80070583, 0.67033335, 0.51849446, 0.53943237, 0.51503667,\n",
              "        0.52892125, 0.5709515 , 0.55360519, 0.53655523, 0.6826903 ,\n",
              "        0.51223184, 0.51910274, 0.54235803, 0.64971736, 0.55148745,\n",
              "        0.53232825, 0.52722024, 0.51348686, 0.60405507, 0.58687044,\n",
              "        0.52960301, 0.72234064, 0.55131701, 0.5188829 , 0.62291819,\n",
              "        0.84603794, 0.513795  , 0.54067667, 0.84379294, 0.51699667,\n",
              "        0.52365528, 0.66492042, 0.71695076, 0.52512277, 0.71907422,\n",
              "        0.80662508, 0.58165126, 0.59611024, 0.53374269, 0.56536795,\n",
              "        0.51500341, 0.51305154, 0.56059316, 0.52095294, 0.58505406,\n",
              "        0.54377117, 0.63399868, 0.56333809, 0.65739488, 0.51219445,\n",
              "        0.61656632, 0.57049884, 0.54801589, 0.7462507 , 0.52817833,\n",
              "        0.5290132 , 0.61442539, 0.61640461, 0.60261898, 0.75867525,\n",
              "        0.57583928, 0.535341  , 0.51179455, 0.58383156, 0.54097889,\n",
              "        0.51357072, 0.52066957, 0.5193699 , 0.64064594, 0.58926223,\n",
              "        0.77388101, 0.51264415, 0.53174994, 0.75172647, 0.55803015,\n",
              "        0.60014935, 0.82797472, 0.51592207, 0.56331982, 0.5321517 ,\n",
              "        0.57044346, 0.62853376, 0.59948129, 0.55284297, 0.87353778,\n",
              "        0.87232735, 0.87423026, 0.60247508, 0.55742339, 0.73472083,\n",
              "        0.68052727, 0.51826307, 0.80407448, 0.51184027, 0.53569767,\n",
              "        0.51743327, 0.52592471, 0.81496078, 0.63452779, 0.55576207,\n",
              "        0.67682341, 0.54712057, 0.60178733, 0.52736333, 0.55171937,\n",
              "        0.53761903, 0.55060155, 0.55656245, 0.54041335, 0.84923371,\n",
              "        0.72403768, 0.63684899, 0.53211084, 0.51655944, 0.57818646,\n",
              "        0.58201693, 0.53514115, 0.54107029, 0.5916821 , 0.55575212,\n",
              "        0.62816312, 0.55021143, 0.51255186, 0.56072186, 0.7641285 ,\n",
              "        0.55735216, 0.56625175, 0.59313245, 0.55342373, 0.51560282,\n",
              "        0.54474631, 0.55076283, 0.51445999, 0.53119306, 0.5281884 ,\n",
              "        0.51321711, 0.56083854, 0.546537  , 0.63769753, 0.56290788,\n",
              "        0.52859754, 0.55349516, 0.70191296, 0.68484548, 0.68996998,\n",
              "        0.55474554, 0.54035271, 0.66776292, 0.54986695, 0.51193039,\n",
              "        0.62063249, 0.58052952, 0.51926703, 0.54795659, 0.56459248,\n",
              "        0.52361287, 0.75179813, 0.52524162, 0.62312861, 0.58487829,\n",
              "        0.57976202, 0.55271037, 0.56328473, 0.59350614, 0.52922284,\n",
              "        0.71047488, 0.84615751, 0.73101709, 0.56751279, 0.87888673,\n",
              "        0.63785342, 0.51459235, 0.51704029, 0.61578438, 0.70751932,\n",
              "        0.64225392, 0.51299952, 0.74493817, 0.53885229, 0.54149712,\n",
              "        0.52528293, 0.54662337, 0.5809074 , 0.54068691, 0.51779237,\n",
              "        0.52393549, 0.78169372, 0.56234474, 0.51483205, 0.5135695 ,\n",
              "        0.58995229, 0.57828528, 0.76177095, 0.54223912, 0.54857615,\n",
              "        0.51186823, 0.51487251, 0.61906434, 0.57849178, 0.70075725,\n",
              "        0.55789699, 0.58224635, 0.56810267, 0.56329275, 0.5408105 ,\n",
              "        0.52864727, 0.53231317, 0.54352728, 0.61790738, 0.616546  ,\n",
              "        0.67378335, 0.55418603, 0.55020677, 0.59512669, 0.68296112,\n",
              "        0.57557361, 0.52237002, 0.53088117, 0.55792012, 0.6498286 ,\n",
              "        0.54416678, 0.53702799, 0.58209786, 0.86500108, 0.64377121,\n",
              "        0.55553081, 0.52095802, 0.51681162, 0.55742104, 0.59877614,\n",
              "        0.69454758, 0.52887509, 0.71065721, 0.76965277, 0.54960299,\n",
              "        0.52859037, 0.87477133, 0.51697539, 0.57723121, 0.58725588,\n",
              "        0.58290006, 0.77247554, 0.70578082, 0.58699885, 0.76711208,\n",
              "        0.5132785 , 0.5851878 , 0.66175132, 0.62652331, 0.5788752 ,\n",
              "        0.82155197, 0.70283375, 0.87380655, 0.52266819, 0.51316286,\n",
              "        0.72956389, 0.54310785, 0.51341834, 0.57607241, 0.71318885,\n",
              "        0.57866018, 0.88813375, 0.57642851, 0.51527938, 0.54628441,\n",
              "        0.54065439, 0.5285902 , 0.51228132, 0.51221733, 0.70428157,\n",
              "        0.53285275, 0.51277417, 0.53674926, 0.55795251, 0.57709572,\n",
              "        0.57461441, 0.56820971, 0.60892982, 0.58714058, 0.52039174,\n",
              "        0.53007683, 0.51430109, 0.89995717, 0.60215007, 0.52933812,\n",
              "        0.56299947, 0.57194792, 0.81134063, 0.70058162, 0.51826141,\n",
              "        0.62540478, 0.51952982, 0.60380435, 0.57907189, 0.52013234,\n",
              "        0.60311014, 0.52014123, 0.57865326, 0.64789852, 0.59526561,\n",
              "        0.69673048, 0.58939958, 0.51427475, 0.6702375 , 0.62868196,\n",
              "        0.61449789, 0.56527657, 0.58765094, 0.58267891, 0.53851278,\n",
              "        0.51248119, 0.54217814, 0.51818712, 0.52181436, 0.588012  ,\n",
              "        0.607538  , 0.54667118, 0.62664264, 0.72597245, 0.51180114,\n",
              "        0.5170168 , 0.53712828, 0.67918435, 0.51194601, 0.78601585,\n",
              "        0.65600979, 0.55775863, 0.53911846, 0.56808457, 0.58611152,\n",
              "        0.66063665, 0.57920084, 0.54819899, 0.54816253, 0.51405129,\n",
              "        0.51179448, 0.55297821, 0.54357123, 0.59987257, 0.51230499,\n",
              "        0.55248687, 0.82805553, 0.51396359, 0.52400498, 0.53015299,\n",
              "        0.51590981, 0.62405835, 0.51485253, 0.5439527 , 0.68791733,\n",
              "        0.6123876 , 0.51310386, 0.52717727, 0.52610955, 0.51601235,\n",
              "        0.54614333, 0.53135437, 0.55676033, 0.51868999, 0.6581667 ,\n",
              "        0.55744696, 0.5194205 , 0.51204676, 0.51384491, 0.58723497,\n",
              "        0.53088229, 0.52672534, 0.63475191, 0.55288729, 0.51554276,\n",
              "        0.68265243, 0.51290473, 0.82616456, 0.51267116, 0.56809968,\n",
              "        0.56052492, 0.54753016, 0.55032605, 0.51914534, 0.85251481,\n",
              "        0.54606726, 0.53681557, 0.59694861, 0.51515901, 0.53998645,\n",
              "        0.51902877, 0.55636143, 0.51299508, 0.66628023, 0.51766686,\n",
              "        0.64545807, 0.51314706, 0.70881431, 0.53118158, 0.56631515,\n",
              "        0.52267728, 0.63538249, 0.51705279, 0.66520386, 0.53131591,\n",
              "        0.51220542, 0.58604185, 0.53691566, 0.68559243, 0.54129278,\n",
              "        0.68324286, 0.73468556, 0.53617499, 0.51854366, 0.76408023,\n",
              "        0.53722418, 0.62471407, 0.58128608, 0.58445216, 0.55732709,\n",
              "        0.56243496, 0.59791899, 0.5504488 , 0.80411821, 0.71183923,\n",
              "        0.59828479, 0.52099592, 0.70424445, 0.7065732 , 0.51358976,\n",
              "        0.82383897, 0.52137511, 0.800873  , 0.79872186, 0.72132405,\n",
              "        0.55648652, 0.7498532 , 0.51723854, 0.5128042 , 0.51247765,\n",
              "        0.51385427, 0.56861957, 0.551802  , 0.74142279, 0.53153471,\n",
              "        0.59313883, 0.58647743, 0.59713767, 0.51179526, 0.52732419,\n",
              "        0.79112458, 0.74396871, 0.7727193 , 0.53063612, 0.67357024,\n",
              "        0.51827527, 0.52357196, 0.51938112, 0.56769527, 0.51632574,\n",
              "        0.64140229, 0.52703933, 0.53629904, 0.51245758, 0.51208344,\n",
              "        0.59887219, 0.69263747, 0.5129376 , 0.67202246, 0.62077823,\n",
              "        0.52512069, 0.51449877, 0.8166205 , 0.51996437, 0.5549697 ,\n",
              "        0.69239791, 0.66702903, 0.53279769, 0.58338205, 0.77285575,\n",
              "        0.56496721, 0.51182614, 0.61379852, 0.78827174, 0.52309301,\n",
              "        0.55345348, 0.51252868, 0.71938142, 0.58354372, 0.64013201,\n",
              "        0.52548378, 0.5865302 , 0.6328264 , 0.53202884, 0.5288403 ,\n",
              "        0.65699729, 0.81691519, 0.51344769, 0.84375818, 0.7928192 ,\n",
              "        0.51899587, 0.62475759, 0.58502753, 0.53730271, 0.56248419,\n",
              "        0.5265992 , 0.61477735, 0.57496573, 0.52491852, 0.57318196,\n",
              "        0.70481032, 0.51222413, 0.52595458, 0.81354323, 0.69165426,\n",
              "        0.52293185, 0.51339349, 0.51634578, 0.52208166, 0.5580637 ,\n",
              "        0.51339429, 0.5432133 , 0.57155679, 0.52695258, 0.59962127,\n",
              "        0.74516708, 0.56216428, 0.70346415, 0.54556954, 0.81228842,\n",
              "        0.56055795, 0.51202725, 0.55375049, 0.80238952, 0.73900502,\n",
              "        0.60749351, 0.56335611, 0.54594278, 0.54699073, 0.52644829,\n",
              "        0.52957952, 0.82171531, 0.85108329, 0.57105533, 0.53561175,\n",
              "        0.51192067, 0.69026732, 0.6583854 , 0.51311645, 0.51673022,\n",
              "        0.67538383, 0.59192791, 0.67498489, 0.51828535, 0.57556188,\n",
              "        0.63765027, 0.55628068, 0.5303209 , 0.5124874 , 0.5408405 ,\n",
              "        0.53401756, 0.64496771, 0.52915592, 0.55061017, 0.5206631 ,\n",
              "        0.51800086, 0.52821573, 0.60735834, 0.74529876, 0.70841197,\n",
              "        0.58850075, 0.85443882, 0.57454956, 0.68147488, 0.57512488,\n",
              "        0.78881686, 0.81654173, 0.70356749, 0.5138965 , 0.51184446,\n",
              "        0.5253302 , 0.81107233, 0.52461862, 0.55646277, 0.52763186,\n",
              "        0.51919626, 0.58551154, 0.71324246, 0.583105  , 0.61878283,\n",
              "        0.86948137, 0.52519512, 0.54959301, 0.60406637, 0.88485001,\n",
              "        0.56102931, 0.53261472, 0.54400963, 0.51186923, 0.52623751,\n",
              "        0.55289112, 0.66605088, 0.51326265, 0.52145685, 0.5975702 ,\n",
              "        0.53208298, 0.59117152, 0.68273664, 0.52448698, 0.55007472,\n",
              "        0.53768862, 0.51847531, 0.89043882, 0.58397725, 0.52076339,\n",
              "        0.51543255, 0.5433285 , 0.736813  , 0.52221917, 0.56657495,\n",
              "        0.85993528, 0.51596668, 0.81569957, 0.57980799, 0.52646527,\n",
              "        0.56066476, 0.67076629, 0.77841061, 0.60991079, 0.6597301 ,\n",
              "        0.51907557, 0.64814161, 0.55715046, 0.75574562, 0.59037721,\n",
              "        0.57315561, 0.6289102 , 0.54295669, 0.56623241, 0.5392873 ,\n",
              "        0.51327903, 0.53671973, 0.7133505 , 0.51205738, 0.84914659,\n",
              "        0.7840821 , 0.53411364, 0.51425952, 0.55263686, 0.79353164,\n",
              "        0.78505971, 0.53397415, 0.61672516, 0.57840329, 0.59502111,\n",
              "        0.51262453, 0.54083109, 0.51258582, 0.5195577 , 0.59608728,\n",
              "        0.63087621, 0.88420803, 0.5409631 , 0.52209649, 0.51556112,\n",
              "        0.67929176, 0.56563629, 0.52026748, 0.52335416, 0.55147103,\n",
              "        0.78623186, 0.52896879, 0.51315366, 0.56127245, 0.60200302,\n",
              "        0.51180116, 0.64796266, 0.57080974, 0.70599785, 0.51221275,\n",
              "        0.51213261, 0.54628362, 0.52337093, 0.55224141, 0.53764472,\n",
              "        0.5117971 , 0.56258319, 0.5300704 , 0.54549145, 0.63568442,\n",
              "        0.63699943, 0.60134125, 0.53863105, 0.58166494, 0.51929025,\n",
              "        0.57797285, 0.67813204, 0.55115899, 0.55025926, 0.67994953,\n",
              "        0.84464281, 0.51733779, 0.5881316 , 0.51197884, 0.85409076,\n",
              "        0.7941705 , 0.51224892, 0.64760437, 0.77849071, 0.51732167,\n",
              "        0.69493036, 0.63612121, 0.5433673 , 0.82724135, 0.61101347,\n",
              "        0.76962672, 0.56557922, 0.57701345, 0.53484728, 0.62812005,\n",
              "        0.53759483, 0.78354526, 0.74702574, 0.51341044, 0.55106996,\n",
              "        0.51268348, 0.51802016, 0.7421176 , 0.78389457, 0.51290585,\n",
              "        0.51179477, 0.54218276, 0.51673647, 0.68170655, 0.51321566,\n",
              "        0.57457897, 0.54131368, 0.56473286, 0.57447016, 0.57128226,\n",
              "        0.79551541, 0.51216572, 0.5792344 , 0.58283126, 0.80366307,\n",
              "        0.51303748, 0.53758854, 0.59541127, 0.60179739, 0.55213973,\n",
              "        0.54491777, 0.51181298, 0.77615889, 0.65090805, 0.6396645 ,\n",
              "        0.80735359, 0.57385237, 0.62392778, 0.51646325, 0.58823993,\n",
              "        0.54308333, 0.53242529, 0.5179424 , 0.5376755 , 0.51193304,\n",
              "        0.532758  , 0.52070697, 0.8018599 , 0.51186741, 0.54581789,\n",
              "        0.53843094, 0.58251609, 0.6556005 , 0.51181013, 0.77731647,\n",
              "        0.69159157, 0.72353076, 0.61976243, 0.73220954, 0.58004413,\n",
              "        0.734246  , 0.51311226, 0.5210707 , 0.59885341, 0.53297132]))"
            ]
          },
          "metadata": {},
          "execution_count": 58
        }
      ]
    },
    {
      "cell_type": "code",
      "source": [
        "#expected portfolio return\n",
        "np.sum(weights * log_returns.mean()) * 250"
      ],
      "metadata": {
        "colab": {
          "base_uri": "https://localhost:8080/"
        },
        "id": "GT-GP08U0DSg",
        "outputId": "465187b9-9b79-4ab0-aa47-2e9b41a889e1"
      },
      "execution_count": null,
      "outputs": [
        {
          "output_type": "execute_result",
          "data": {
            "text/plain": [
              "0.429137147839335"
            ]
          },
          "metadata": {},
          "execution_count": 59
        }
      ]
    },
    {
      "cell_type": "code",
      "source": [
        "portfolios = pd.DataFrame({'Return': portfolio_returns, 'Volatility':portfolio_volatilities  })\n",
        "portfolios.plot(x='Volatility', y='Return', kind='scatter', figsize=(15,10));\n",
        "plt.xlabel('Expected Volatility')\n",
        "plt.ylabel('Expected Return')"
      ],
      "metadata": {
        "colab": {
          "base_uri": "https://localhost:8080/",
          "height": 666
        },
        "id": "VRbqbgPM0U-3",
        "outputId": "60853272-fd70-423d-be8d-66354b691136"
      },
      "execution_count": null,
      "outputs": [
        {
          "output_type": "stream",
          "name": "stderr",
          "text": [
            "*c* argument looks like a single numeric RGB or RGBA sequence, which should be avoided as value-mapping will have precedence in case its length matches with *x* & *y*.  Please use the *color* keyword-argument or provide a 2-D array with a single row if you intend to specify the same RGB or RGBA value for all points.\n"
          ]
        },
        {
          "output_type": "execute_result",
          "data": {
            "text/plain": [
              "Text(0, 0.5, 'Expected Return')"
            ]
          },
          "metadata": {},
          "execution_count": 60
        },
        {
          "output_type": "display_data",
          "data": {
            "image/png": "[encoded data removed]",
            "text/plain": [
              "<Figure size 1080x720 with 1 Axes>"
            ]
          },
          "metadata": {}
        }
      ]
    },
    {
      "cell_type": "code",
      "source": [
        ""
      ],
      "metadata": {
        "id": "pN_ig9Nv0bPf"
      },
      "execution_count": null,
      "outputs": []
    }
  ]
}