{
  "cells": [
    {
      "cell_type": "code",
      "execution_count": null,
      "id": "9a974e6d",
      "metadata": {
        "id": "9a974e6d"
      },
      "outputs": [],
      "source": [
        "import pandas as pd\n",
        "import numpy as np\n",
        "from sklearn.tree import DecisionTreeClassifier\n",
        "from sklearn.tree import DecisionTreeRegressor\n",
        "from sklearn.model_selection import train_test_split\n",
        "from sklearn import metrics\n",
        "from sklearn import tree"
      ]
    },
    {
      "cell_type": "markdown",
      "id": "92095e98",
      "metadata": {
        "id": "92095e98"
      },
      "source": [
        "### 6- Data selection"
      ]
    },
    {
      "cell_type": "markdown",
      "id": "5c67df4d",
      "metadata": {
        "id": "5c67df4d"
      },
      "source": [
        "#### 6.1 - Choose one of the 35 variables to serve as your response variable (e.g. LUXXX).  You may choose the same one that your group used in the previous assignment."
      ]
    },
    {
      "cell_type": "markdown",
      "id": "6e25f1f9",
      "metadata": {
        "id": "6e25f1f9"
      },
      "source": [
        "#### We choose LUXXX as our response variable  "
      ]
    },
    {
      "cell_type": "markdown",
      "id": "7a5944f0",
      "metadata": {
        "id": "7a5944f0"
      },
      "source": [
        "### 7- Compare unsupervised and supervised"
      ]
    },
    {
      "cell_type": "markdown",
      "id": "33e5f04b",
      "metadata": {
        "id": "33e5f04b"
      },
      "source": [
        "#### 7.1 - What is the difference between unsupervised learning and supervised learning?"
      ]
    },
    {
      "cell_type": "markdown",
      "id": "4f7e5dd0",
      "metadata": {
        "id": "4f7e5dd0"
      },
      "source": [
        "#### In Supervised learning the  datasets are designed to train or “supervise” algorithms into classifying data or predicting outcomes accurately.  Unsupervised learning  discover hidden patterns in data without the need for human intervention The main distinction between the two approaches is the use of labeled datasets. To put it simply, supervised learning uses labeled input and output data, while an unsupervised learning algorithm does not."
      ]
    },
    {
      "cell_type": "markdown",
      "id": "d73b0e90",
      "metadata": {
        "id": "d73b0e90"
      },
      "source": [
        "#### 7.2 - Which is clustering?  Which is CART?  Which is SVM?"
      ]
    },
    {
      "cell_type": "markdown",
      "id": "c1914810",
      "metadata": {
        "id": "c1914810"
      },
      "source": [
        "#### Clustering is Unsupervised\n",
        "#### CART is Supervised\n",
        "#### SVM is Supervised"
      ]
    },
    {
      "cell_type": "markdown",
      "id": "6000d473",
      "metadata": {
        "id": "6000d473"
      },
      "source": [
        "### 9 - Classification and Regression Trees (CART) "
      ]
    },
    {
      "cell_type": "markdown",
      "id": "e90b475e",
      "metadata": {
        "id": "e90b475e"
      },
      "source": [
        "#### 9.1 - Perform a Classification Tree, where the response is categorical: whether your return was higher or lower than the previous week.  (Ties can be ignored).  Choose a suitable depth of the tree, basing your result on cross-validation"
      ]
    },
    {
      "cell_type": "code",
      "execution_count": null,
      "id": "450e6fad",
      "metadata": {
        "id": "450e6fad"
      },
      "outputs": [],
      "source": [
        "# We import out dataset\n",
        "data = pd.read_csv(\"Data.csv\")"
      ]
    },
    {
      "cell_type": "code",
      "execution_count": null,
      "id": "9ae184d8",
      "metadata": {
        "id": "9ae184d8",
        "outputId": "00c2038b-ca25-4890-d906-f0d470d2bad5"
      },
      "outputs": [
        {
          "name": "stdout",
          "output_type": "stream",
          "text": [
            "Accuracy: 0.42105263157894735\n"
          ]
        }
      ],
      "source": [
        "\n",
        "data['Return'] = round(data.LUXXX.pct_change(1),2)\n",
        "data['Return'] = np.where(data['Return'] >= 0, 'High','Low')\n",
        "\n",
        "#split dataset in features and target variable\n",
        "X = data[data.columns.difference(['LUXXX', 'Return','Date'])]\n",
        "y = data['Return']\n",
        "\n",
        "#split dataset into training set and test set\n",
        "X_train, X_test, y_train, y_test = train_test_split(X,y, test_size = 0.3, random_state=1)\n",
        "\n",
        "# create decision tree classifier\n",
        "clf = DecisionTreeClassifier()\n",
        "\n",
        "#train decision tree classifier\n",
        "clf = clf.fit(X_train,y_train)\n",
        "\n",
        "#predict the response for test dataset\n",
        "y_pred = clf.predict(X_test)\n",
        "\n",
        "#Model Accuracy\n",
        "print(\"Accuracy:\", metrics.accuracy_score(y_test,y_pred))"
      ]
    },
    {
      "cell_type": "code",
      "execution_count": null,
      "id": "66d788b5",
      "metadata": {
        "id": "66d788b5",
        "outputId": "30d7aa63-3bc1-4e8f-a0ae-fd7cce19d342"
      },
      "outputs": [
        {
          "name": "stdout",
          "output_type": "stream",
          "text": [
            "Accuracy: 0.4473684210526316\n"
          ]
        }
      ],
      "source": [
        "#optimizing the perforance\n",
        "clf = DecisionTreeClassifier(criterion=\"entropy\", max_depth = 2)\n",
        "\n",
        "# create decision tree classifier\n",
        "clf = DecisionTreeClassifier()\n",
        "\n",
        "#train decision tree classifier\n",
        "clf = clf.fit(X_train,y_train)\n",
        "\n",
        "#predict the response for test dataset\n",
        "y_pred = clf.predict(X_test)\n",
        "\n",
        "#Model Accuracy\n",
        "print(\"Accuracy:\", metrics.accuracy_score(y_test,y_pred))"
      ]
    },
    {
      "cell_type": "code",
      "execution_count": null,
      "id": "83f99d24",
      "metadata": {
        "id": "83f99d24"
      },
      "outputs": [],
      "source": [
        ""
      ]
    },
    {
      "cell_type": "markdown",
      "id": "68d39878",
      "metadata": {
        "id": "68d39878"
      },
      "source": [
        "#### 9.2 - Perform a Regression Tree.  The difference here is the response is continuous.  This value should be the weekly return that you calculated on each series. Choose a suitable depth of the tree, basing your result on cross-validation"
      ]
    },
    {
      "cell_type": "code",
      "execution_count": null,
      "id": "c738a0ec",
      "metadata": {
        "id": "c738a0ec",
        "outputId": "b49c74ec-ab1b-4729-d0b1-7d32e307f9a7"
      },
      "outputs": [
        {
          "data": {
            "text/plain": [
              "DecisionTreeRegressor(max_depth=2)"
            ]
          },
          "execution_count": 111,
          "metadata": {},
          "output_type": "execute_result"
        }
      ],
      "source": [
        "X = data[data.columns.difference(['LUXXX', 'Return','Date'])]\n",
        "y = data['LUXXX']\n",
        "\n",
        "#split dataset into training set and test set\n",
        "X_train, X_test, y_train, y_test = train_test_split(X,y, test_size = 0.3, random_state=1)\n",
        "\n",
        "model = DecisionTreeRegressor(max_depth = 2)\n",
        "model.fit(X_train, y_train)"
      ]
    },
    {
      "cell_type": "code",
      "execution_count": null,
      "id": "7fa92093",
      "metadata": {
        "id": "7fa92093",
        "outputId": "8c89ae52-ac73-4410-e0b9-55910fe39a47"
      },
      "outputs": [
        {
          "name": "stdout",
          "output_type": "stream",
          "text": [
            "0.8602146326244046\n"
          ]
        }
      ],
      "source": [
        "expected_y  = y_test\n",
        "predicted_y = model.predict(X_test)\n",
        "print(metrics.r2_score(expected_y, predicted_y))"
      ]
    },
    {
      "cell_type": "code",
      "execution_count": null,
      "id": "e7f7e5f8",
      "metadata": {
        "id": "e7f7e5f8"
      },
      "outputs": [],
      "source": [
        ""
      ]
    }
  ],
  "metadata": {
    "kernelspec": {
      "display_name": "Python 3",
      "language": "python",
      "name": "python3"
    },
    "language_info": {
      "codemirror_mode": {
        "name": "ipython",
        "version": 3
      },
      "file_extension": ".py",
      "mimetype": "text/x-python",
      "name": "python",
      "nbconvert_exporter": "python",
      "pygments_lexer": "ipython3",
      "version": "3.8.8"
    },
    "colab": {
      "name": "GWP-2.ipynb",
      "provenance": []
    }
  },
  "nbformat": 4,
  "nbformat_minor": 5
}