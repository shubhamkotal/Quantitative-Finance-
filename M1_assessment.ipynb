{
  "metadata": {
    "kernelspec": {
      "display_name": "Python 3",
      "language": "python",
      "name": "python3"
    },
    "language_info": {
      "name": "python",
      "version": "3.7.6",
      "mimetype": "text/x-python",
      "codemirror_mode": {
        "name": "ipython",
        "version": 3
      },
      "pygments_lexer": "ipython3",
      "nbconvert_exporter": "python",
      "file_extension": ".py"
    },
    "colab": {
      "name": "M1 assessment.ipynb",
      "provenance": []
    }
  },
  "nbformat_minor": 0,
  "nbformat": 4,
  "cells": [
    {
      "cell_type": "markdown",
      "source": [
        "# Introduction to Python Programming\n",
        "## Peer Review Assignment\n",
        "\n",
        "In this assignment, you will be expected to go through the process of loading a dataset into NumPy Arrays, performing some simple operations and then using the arrays to construct Pandas Series and Dataframes with meaningful labels. Finally, you will have to plot a few graphs using matplotlib."
      ],
      "metadata": {
        "id": "XAf0gaUbzj2D"
      }
    },
    {
      "cell_type": "code",
      "source": [
        "# Let's start by putting the following (completely fictional) share price lists into NumPy arrays\n",
        "\n",
        "microsoft = [120.3, 121.7, 119.8, 122.5, 123.3]\n",
        "apple = [124.1, 124.3, 124.2, 124.8, 124.3]\n",
        "facebook = [110.2, 112.4, 116.8, 115.3, 119.6]\n",
        "\n",
        "# TASK 1: Import NumPy and create arrays\n",
        "import numpy\n",
        "microsoft = numpy.array(microsoft)\n",
        "apple = numpy.array(apple)\n",
        "facebook = numpy.array(facebook)"
      ],
      "metadata": {
        "trusted": true,
        "id": "LbPmh4dEzj2M"
      },
      "execution_count": null,
      "outputs": []
    },
    {
      "cell_type": "code",
      "source": [
        "# Now let's use some NumPy functions to learn some interesting statistical information\n",
        "\n",
        "\n",
        "# TASK 2A: Calculate the mean share price for each company, and store in suitably named variables.\n",
        "#          Then print them out (in order - Microsoft, then Apple, then Facebook).\n",
        "mean_MSFT = microsoft.mean()\n",
        "mean_AAPL = apple.mean()\n",
        "mean_FB = facebook.mean()\n",
        "print(\"Mean values:\", mean_MSFT, mean_AAPL, mean_FB)\n",
        "\n",
        "# TASK 2B: Calculate the standard deviation of share prices for each company using a NumPy function,\n",
        "#          and store in suitably named variables. Then print them out (in order - Microsoft, then Apple, then Facebook).\n",
        "sd_MSFT = microsoft.std()\n",
        "sd_AAPL = apple.std()\n",
        "sd_FB = facebook.std()\n",
        "print(\"Std. deviation values:\", sd_MSFT, sd_AAPL, sd_FB)\n",
        "\n",
        "# TASK 2C: Calculate the percentage change in share price from the first price to the last price, and store \n",
        "#          in suitably named variables. Then print them out (in order - Microsoft, then Apple, then Facebook).\n",
        "pct_change_MSFT = numpy.diff(microsoft).sum()/microsoft[0]*100\n",
        "pct_change_AAPL = numpy.diff(apple).sum()/apple[0]*100\n",
        "pct_change_FB = numpy.diff(facebook).sum()/facebook[0]*100\n",
        "print(\"% change values:\", pct_change_MSFT, pct_change_AAPL, pct_change_FB)"
      ],
      "metadata": {
        "trusted": true,
        "id": "jltgeF9Vzj2N",
        "outputId": "8b5827ee-7768-490f-a4fe-2f210dbf5969"
      },
      "execution_count": null,
      "outputs": [
        {
          "name": "stdout",
          "text": "Mean values: 121.52000000000001 124.33999999999999 114.86000000000001\nStd. deviation values: 1.3120975573485387 0.24166091947189133 3.2921725349683566\n% change values: 2.493765586034913 0.1611603545527823 8.529945553539012\n",
          "output_type": "stream"
        }
      ]
    },
    {
      "cell_type": "code",
      "source": [
        "# Now we're going to load our NumPy arrays into a Pandas Dataframe\n",
        "# The 5 values in each company's array is the share price for the first 5 months of 2018\n",
        "\n",
        "# TASK 3: Import Pandas and load the arrays into a dataframe with appropriate row and column labels, and then\n",
        "#         output the dataframe by simply typing its variable name on a new line\n",
        "import pandas as pd\n",
        "month = [\"Month 1\", \"Month 2\", \"Month 3\", \"Month 4\", \"Month 5\"]\n",
        "company = [\"Microsoft\", \"Apple\", \"Facebook\"]\n",
        "share_prices = pd.DataFrame([microsoft, apple, facebook], index = company, columns = month )\n",
        "share_prices"
      ],
      "metadata": {
        "trusted": true,
        "id": "lEiidaZqzj2Q",
        "outputId": "849ddd30-9871-4604-c673-c802687e9755"
      },
      "execution_count": null,
      "outputs": [
        {
          "execution_count": 3,
          "output_type": "execute_result",
          "data": {
            "text/plain": "           Month 1  Month 2  Month 3  Month 4  Month 5\nMicrosoft    120.3    121.7    119.8    122.5    123.3\nApple        124.1    124.3    124.2    124.8    124.3\nFacebook     110.2    112.4    116.8    115.3    119.6",
            "text/html": "<div>\n<style scoped>\n    .dataframe tbody tr th:only-of-type {\n        vertical-align: middle;\n    }\n\n    .dataframe tbody tr th {\n        vertical-align: top;\n    }\n\n    .dataframe thead th {\n        text-align: right;\n    }\n</style>\n<table border=\"1\" class=\"dataframe\">\n  <thead>\n    <tr style=\"text-align: right;\">\n      <th></th>\n      <th>Month 1</th>\n      <th>Month 2</th>\n      <th>Month 3</th>\n      <th>Month 4</th>\n      <th>Month 5</th>\n    </tr>\n  </thead>\n  <tbody>\n    <tr>\n      <th>Microsoft</th>\n      <td>120.3</td>\n      <td>121.7</td>\n      <td>119.8</td>\n      <td>122.5</td>\n      <td>123.3</td>\n    </tr>\n    <tr>\n      <th>Apple</th>\n      <td>124.1</td>\n      <td>124.3</td>\n      <td>124.2</td>\n      <td>124.8</td>\n      <td>124.3</td>\n    </tr>\n    <tr>\n      <th>Facebook</th>\n      <td>110.2</td>\n      <td>112.4</td>\n      <td>116.8</td>\n      <td>115.3</td>\n      <td>119.6</td>\n    </tr>\n  </tbody>\n</table>\n</div>"
          },
          "metadata": {}
        }
      ]
    },
    {
      "cell_type": "code",
      "source": [
        "# Finally, let's draw some interesting graphs! \n",
        "# You will need to use some of the statistical values you calculated earlier in order to do this\n",
        "\n",
        "# TO DO: Import Matplotlib's Pyplot submodule\n",
        "\n",
        "# TASK 4A: Draw a line graph for one of the companies, showing their share prices over time, using the dataframe.\n",
        "#          Provide suitable labels. Hint: using your_dataframe_variable.loc[\"your_row_label\", :] will extract a single row.\n",
        "import matplotlib.pyplot as plt\n",
        "plt.xlabel(\"Time\")\n",
        "plt.ylabel(\"Share Price\")\n",
        "plt.plot(share_prices.loc[\"Facebook\",:])\n",
        "plt.title(\"Facebook\")\n",
        "plt.show()\n",
        "\n",
        "# TASK 4B: Draw a bar chart, using any data structure, comparing each company's value for any statistic of your choice \n",
        "#          from Task 2 (A, B or C)\n",
        "import matplotlib.pyplot as plt2\n",
        "plt2.ylabel(\"Standard Deviation\")\n",
        "plt2.title(\"Standard Deviation Comparison on share prices\")\n",
        "plt2.bar(company,[sd_MSFT, sd_AAPL, sd_FB])\n",
        "plt2.show()\n"
      ],
      "metadata": {
        "trusted": true,
        "id": "zArOGzWhzj2R",
        "outputId": "cf500ff8-9df5-4b51-9149-27116b874834"
      },
      "execution_count": null,
      "outputs": [
        {
          "output_type": "display_data",
          "data": {
            "text/plain": "<Figure size 432x288 with 1 Axes>",
            "image/png": "[encoded data removed]"
          },
          "metadata": {
            "needs_background": "light"
          }
        },
        {
          "output_type": "display_data",
          "data": {
            "text/plain": "<Figure size 432x288 with 1 Axes>",
            "image/png": "[encoded data removed]"
          },
          "metadata": {
            "needs_background": "light"
          }
        }
      ]
    },
    {
      "cell_type": "code",
      "source": [
        ""
      ],
      "metadata": {
        "id": "LfcTlmKezj2T"
      },
      "execution_count": null,
      "outputs": []
    }
  ]
}