{
  "nbformat": 4,
  "nbformat_minor": 0,
  "metadata": {
    "kernelspec": {
      "display_name": "Python 3",
      "language": "python",
      "name": "python3"
    },
    "language_info": {
      "codemirror_mode": {
        "name": "ipython",
        "version": 3
      },
      "file_extension": ".py",
      "mimetype": "text/x-python",
      "name": "python",
      "nbconvert_exporter": "python",
      "pygments_lexer": "ipython3",
      "version": "3.8.5"
    },
    "colab": {
      "name": "M4CRT2.ipynb",
      "provenance": [],
      "collapsed_sections": []
    }
  },
  "cells": [
    {
      "cell_type": "markdown",
      "metadata": {
        "id": "1H1TDWIXnIBO"
      },
      "source": [
        "### Question 1: Estimate the value of $\\int_{0}^{2} \\cos(x)dx$"
      ]
    },
    {
      "cell_type": "markdown",
      "metadata": {
        "id": "kwnzyc7MnIBR"
      },
      "source": [
        "#### 1. Rewrite the above as an expectation: \n",
        "\\begin{equation}\n",
        "\\int_{0}^{2} \\cos(x)dx = 2\\int_{0}^{2} \\frac{1}{2}\\cos(x)dx = 2\\mathbb{E}(\\cos X) \\\\\n",
        "\\text{where } X \\sim Unif(0,2) \\text{ with pdf } f(x) = \\frac{1}{2}\n",
        "\\end{equation}"
      ]
    },
    {
      "cell_type": "code",
      "metadata": {
        "id": "fZlfIz_SnIBS"
      },
      "source": [
        "# import libraries\n",
        "import numpy as np\n",
        "from scipy import stats\n",
        "import math\n",
        "import matplotlib.pyplot as plt"
      ],
      "execution_count": null,
      "outputs": []
    },
    {
      "cell_type": "code",
      "metadata": {
        "id": "vz-p2X96nIBT"
      },
      "source": [
        "# let's write a general method to integrate any form of function\n",
        "def monte_carlo_integration(inner_func, outer_func, dist, sample_size = 1000):\n",
        "    '''\n",
        "        inner_func: the function to take expectation of (inside E[]), take np.array as input and return array of point-wise values\n",
        "        outer_func: the function with respect to the expectation\n",
        "        dist: the distribution of random variable X\n",
        "    '''\n",
        "    samples = dist.rvs(size = sample_size)\n",
        "    func_values = inner_func(samples)\n",
        "    func_mean = np.mean(func_values)\n",
        "    estimated_val = outer_func(func_mean)\n",
        "    func_std = np.std(outer_func(func_values))/np.sqrt(sample_size)\n",
        "    return estimated_val, func_std"
      ],
      "execution_count": null,
      "outputs": []
    },
    {
      "cell_type": "markdown",
      "metadata": {
        "id": "czCOArwwnIBT"
      },
      "source": [
        "#### 2. Estimate the value of the integral, using samples sizes of 1000, 2000, ..., 50000"
      ]
    },
    {
      "cell_type": "code",
      "metadata": {
        "id": "xPMMS-ExnIBU"
      },
      "source": [
        "cos_estimates = []\n",
        "cos_std = []\n",
        "\n",
        "inner_func = np.cos\n",
        "outer_func = lambda m: 2*m\n",
        "for size in range(1000, 50001, 1000):\n",
        "    m, s = monte_carlo_integration(inner_func, outer_func, stats.uniform(loc=0, scale=2), sample_size = size) # X follows Unif(0,2)\n",
        "    cos_estimates.append(m)\n",
        "    cos_std.append(s)"
      ],
      "execution_count": null,
      "outputs": []
    },
    {
      "cell_type": "markdown",
      "metadata": {
        "id": "nZDCq_MQnIBU"
      },
      "source": [
        "#### 3. Plot the estimates against the analytical value of the integral"
      ]
    },
    {
      "cell_type": "markdown",
      "metadata": {
        "id": "_aixhxYHnIBV"
      },
      "source": [
        "First, let's solve the integral analytically\n",
        "\\begin{equation}\n",
        "\\int_{0}^{2} \\cos(x)dx = \\sin(x) \\big\\rvert_{0}^{2} = \\sin(2) - \\sin(0) = sin(2)\n",
        "\\end{equation}"
      ]
    },
    {
      "cell_type": "code",
      "metadata": {
        "id": "wrAy9YJjnIBV",
        "outputId": "fb4deb3c-3edf-4d81-f319-b505e295ee26"
      },
      "source": [
        "analytical_val = np.sin(2)\n",
        "plt.plot([analytical_val] * 50)\n",
        "plt.plot(cos_estimates, '.')\n",
        "plt.plot(analytical_val + 3*np.array(cos_std), 'r')\n",
        "plt.plot(analytical_val - 3*np.array(cos_std), 'r')\n",
        "plt.show()"
      ],
      "execution_count": null,
      "outputs": [
        {
          "output_type": "display_data",
          "data": {
            "image/png": "[encoded data removed]",
            "text/plain": [
              "<Figure size 432x288 with 1 Axes>"
            ]
          },
          "metadata": {
            "tags": [],
            "needs_background": "light"
          }
        }
      ]
    },
    {
      "cell_type": "markdown",
      "metadata": {
        "id": "ljZ1JvnknIBX"
      },
      "source": [
        "### Question 2: Price a European put option\n",
        "\n",
        "- Share volatility: 30%\n",
        "- Risk-free rate: 10%\n",
        "- Average share return: 15%\n",
        "- Current share price: \\$100\n",
        "- Strike price: \\$110\n",
        "- Term of contract: 6 months (0.5 year)"
      ]
    },
    {
      "cell_type": "code",
      "metadata": {
        "id": "xTrgXM2XnIBX"
      },
      "source": [
        "# initialize the variables\n",
        "sigma = 0.3\n",
        "r = 0.1\n",
        "S0 = 100\n",
        "K = 110\n",
        "T = 0.5"
      ],
      "execution_count": null,
      "outputs": []
    },
    {
      "cell_type": "markdown",
      "metadata": {
        "id": "4bC6cpORnIBY"
      },
      "source": [
        "#### 1. Write a function which takes a risk-free rate, initial share price, the share volatility, and term as inputs, and determines the value of a share price, assuming geometric Brownian Motion"
      ]
    },
    {
      "cell_type": "code",
      "metadata": {
        "id": "rtd19VaznIBY"
      },
      "source": [
        "def terminal_price(r, S0, sigma, T, Z):\n",
        "    return S0 * np.exp((r - sigma**2/2)*T + sigma*np.sqrt(T)*Z)"
      ],
      "execution_count": null,
      "outputs": []
    },
    {
      "cell_type": "markdown",
      "metadata": {
        "id": "PBS42uLDnIBY"
      },
      "source": [
        "#### 2. Write a function which takes terminal share prices, a strike price, a risk-free rate and term as inputs, and gives out the discounted value of a European put option"
      ]
    },
    {
      "cell_type": "code",
      "metadata": {
        "id": "0X5Myh5InIBZ"
      },
      "source": [
        "def discounted_price(terminal_price, K, r, T):\n",
        "    payoff = np.maximum(K - terminal_price, 0)\n",
        "    price = np.exp(-r*T) * payoff\n",
        "    return price.mean(), price.std()/np.sqrt(len(terminal_price))"
      ],
      "execution_count": null,
      "outputs": []
    },
    {
      "cell_type": "markdown",
      "metadata": {
        "id": "7rjXnjFknIBZ"
      },
      "source": [
        "#### 3. Write a for loop which cycles throught samples size (1000, 2000, ..., 50000), and calcualtes the Monte Carlo estimate of a European put option, as well as the stantard deviation of the Monte Carlo estimator"
      ]
    },
    {
      "cell_type": "code",
      "metadata": {
        "id": "Oc_ByBQanIBZ"
      },
      "source": [
        "estimated_price = []\n",
        "std_price = []\n",
        "\n",
        "for sample_size in range(1000, 50001, 1000):\n",
        "    Z = stats.norm.rvs(size = sample_size)\n",
        "    S_T = terminal_price(r, S0, sigma, T, Z)\n",
        "    m, s = discounted_price(S_T, K, r, T)\n",
        "    estimated_price.append(m)\n",
        "    std_price.append(s)"
      ],
      "execution_count": null,
      "outputs": []
    },
    {
      "cell_type": "markdown",
      "metadata": {
        "id": "vJSONYKBnIBZ"
      },
      "source": [
        "#### 4. Plot the Monte Carlo estemates, the analytical European put option value, and 3 std error bounds."
      ]
    },
    {
      "cell_type": "code",
      "metadata": {
        "id": "ejp0WxhInIBa"
      },
      "source": [
        "# solve for analytical result\n",
        "t = 0\n",
        "d1 = (np.log(S0/K) + (r + sigma**2/2)*(T-t)) / (sigma * np.sqrt(T - t))\n",
        "d2 = d1 - sigma*np.sqrt(T-t)\n",
        "phi = stats.norm.cdf\n",
        "analytical_price = K*np.exp(-r*(T-t))*phi(-d2) - S0*phi(-d1)"
      ],
      "execution_count": null,
      "outputs": []
    },
    {
      "cell_type": "code",
      "metadata": {
        "id": "Kymo93LjnIBa",
        "outputId": "25d64321-1d8d-4116-a7d6-f8cce51019ef"
      },
      "source": [
        "plt.plot([analytical_price] * 50)\n",
        "plt.plot(estimated_price, '.')\n",
        "plt.plot(analytical_price + 3*np.array(std_price), 'r')\n",
        "plt.plot(analytical_price - 3*np.array(std_price), 'r')\n",
        "plt.show()"
      ],
      "execution_count": null,
      "outputs": [
        {
          "output_type": "display_data",
          "data": {
            "image/png": "[encoded data removed]",
            "text/plain": [
              "<Figure size 432x288 with 1 Axes>"
            ]
          },
          "metadata": {
            "tags": [],
            "needs_background": "light"
          }
        }
      ]
    },
    {
      "cell_type": "markdown",
      "metadata": {
        "id": "K27cw3ZvnIBa"
      },
      "source": [
        "# Additional Questions >>>"
      ]
    },
    {
      "cell_type": "code",
      "metadata": {
        "id": "XxD5BgjznIBa"
      },
      "source": [
        "# 1. Pricing an European call option \n",
        "\n",
        "t = 0\n",
        "d1 = (np.log(S0/K) + (r + sigma**2/2)*(T-t)) / (sigma * np.sqrt(T - t))\n",
        "d2 = d1 - sigma*np.sqrt(T-t)\n",
        "phi = stats.norm.cdf\n",
        "analytical_price1 = S0*phi(d1) - K*np.exp(-r*(T-t))*phi(d2)"
      ],
      "execution_count": null,
      "outputs": []
    },
    {
      "cell_type": "code",
      "metadata": {
        "id": "OzwrXp0TnIBb"
      },
      "source": [
        "# 2. Do your prices for the call and put satisfy put-call parity?\n",
        "# Yes, the put and call satisfy the put-call parity\n"
      ],
      "execution_count": null,
      "outputs": []
    },
    {
      "cell_type": "code",
      "metadata": {
        "id": "a63W5D39nIBb"
      },
      "source": [
        "#3. Which 3 markets are involved in put-call parity?\n",
        "# Futures, Spot and Option are 3 markets involved in put call parity"
      ],
      "execution_count": null,
      "outputs": []
    },
    {
      "cell_type": "code",
      "metadata": {
        "id": "_rC5bVvynIBb"
      },
      "source": [
        "#4. How close was the option price using Monte Carlo to the option price using the analytical formula\n",
        "# The Option price using the 2 methods tend to converge and less than 1 std deviation away"
      ],
      "execution_count": null,
      "outputs": []
    },
    {
      "cell_type": "code",
      "metadata": {
        "id": "j45-uuX-nIBc"
      },
      "source": [
        "#5. Why do we learn methods besides the analytic methods?\n",
        "# Other methods like Monte carlo Simulation etc. provide us a range along with the sread of actual values \n",
        "# for accurate values."
      ],
      "execution_count": null,
      "outputs": []
    },
    {
      "cell_type": "code",
      "metadata": {
        "id": "P2eqiBhXnIBc"
      },
      "source": [
        "#6. Why do we prefer analytic methods?\n",
        "# We prefer analytic methods as they provide precise prices w.r.t time"
      ],
      "execution_count": null,
      "outputs": []
    },
    {
      "cell_type": "code",
      "metadata": {
        "id": "izG6_jurnIBc"
      },
      "source": [
        "#7. Why do theoretical prices tend to underestimate market prices\n",
        "# Theoretical prices d0 not account for live market fluctualtions involving demand and supply, \n",
        "# hence underestimate the real prices"
      ],
      "execution_count": null,
      "outputs": []
    },
    {
      "cell_type": "code",
      "metadata": {
        "id": "W2GSTzuvnIBd"
      },
      "source": [
        "#8. What role does hedging play in pricing an option?\n",
        "# Hedging mitigates the excessive risk on one side, thus reducing the overall risk and price of the option."
      ],
      "execution_count": null,
      "outputs": []
    }
  ]
}